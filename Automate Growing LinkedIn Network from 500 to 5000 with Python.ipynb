{
 "cells": [
  {
   "cell_type": "markdown",
   "metadata": {},
   "source": [
    "# Growing Your LinkedIn Network from 500 to 5000 with Python\n",
    "If you are reading this, you probably recieved a LinkedIn request from me within the last few days. The reason for this was because I started a the [Houston Data Science meetup](http://www.meetup.com/Houston-Data-Science/) which will focus on teaching the theory and practice of data science and I wanted to attract new members.\n",
    "\n",
    "One of the easiest ways of increasing membership in my meetup was to head to LinkedIn and start inviting anyone with any 'data science' terms in their profile (which is quite a bit these days). After a few hundred manual key invites, I felt like smashing something to relieve the tension built up from the repetitive motion. \n",
    "\n",
    "Instead of resorting to breaking objects, I decided to let python rip apart LinkedIn for me. I recently did some automated web scraping with a wonderful python package, selenium. Selenium is an easy to use (like nearly every python package) and powerful tool that allows you to automate browser activity.\n",
    "\n",
    "In the following example, I will show you how to...\n",
    "1. log into LinkedIn\n",
    "1. Enter text into input boxes\n",
    "1. Click buttons\n",
    "1. Select Options\n",
    "1. Handle edge cases\n",
    "\n",
    "All with selenium"
   ]
  },
  {
   "cell_type": "markdown",
   "metadata": {},
   "source": [
    "# Sneak peek at end results\n",
    "It worked\n",
    "![linkedin](linkedin.png)"
   ]
  },
  {
   "cell_type": "markdown",
   "metadata": {},
   "source": [
    "# Getting Started\n",
    "If you are using python, you should have pip installed and a simple **pip install selenium** should install the package for you. Selenium works with all the popular browsers but with Chrome (which is used in this workbook), you must install [ChromeDriver found here](https://sites.google.com/a/chromium.org/chromedriver/downloads) for it to work."
   ]
  },
  {
   "cell_type": "code",
   "execution_count": 2,
   "metadata": {
    "collapsed": true
   },
   "outputs": [],
   "source": [
    "'''\n",
    "import just a few functions from selenium to get started\n",
    "the time module will be used to pause the execution of the program occasionally when web pages are loading\n",
    "'''\n",
    "from selenium import webdriver\n",
    "from selenium.webdriver.common.keys import Keys\n",
    "from selenium.webdriver.support.ui import Select\n",
    "import time"
   ]
  },
  {
   "cell_type": "code",
   "execution_count": 3,
   "metadata": {
    "collapsed": true
   },
   "outputs": [],
   "source": [
    "'''\n",
    "Begin Chrome and browse to LinkedIn. You won't be autologged into linkedin as selenium starts \n",
    "an instance of Chrome without knowledge of user data\n",
    "'''\n",
    "# The ChromeDriver is a necessity for selenium. CHANGE THIS LOCATION\n",
    "driver_location = \"/Users/Ted/Documents/chromedriver/chromedriver\"\n",
    "\n",
    "# The variable driver controls all actions\n",
    "driver = webdriver.Chrome(executable_path=driver_location)\n",
    "\n",
    "# A get request to navigate to LinkedIn\n",
    "driver.get(\"http://www.linkedin.com\")"
   ]
  },
  {
   "cell_type": "markdown",
   "metadata": {},
   "source": [
    "# Inspecting the page\n",
    "The above commands should open a new instance of Chrome and navigate to LinkedIn. At the top of LinkedIn's home page resides the Email and password text boxes. Right click in the Email textbox and select inspect. You should see something very similar to this image\n",
    "\n",
    "![this](inspect_email.png)\n",
    "\n",
    "We are interested in the highlighted html input element and specifically, its id which uniquely identifies it. The code below Enters in the user name and password into the textboxes and clicks enter"
   ]
  },
  {
   "cell_type": "code",
   "execution_count": null,
   "metadata": {
    "collapsed": true
   },
   "outputs": [],
   "source": [
    "# Find the specific element with given id\n",
    "inputElement = driver.find_element_by_id(\"login-email\")\n",
    "\n",
    "# Enter in your user name\n",
    "inputElement.send_keys('your-email')\n",
    "\n",
    "# Go to password textbox and enter in the password\n",
    "inputElement = driver.find_element_by_id(\"login-password\")\n",
    "inputElement.send_keys('your-password')\n",
    "\n",
    "# Press Enter\n",
    "inputElement.send_keys(Keys.ENTER)"
   ]
  },
  {
   "cell_type": "markdown",
   "metadata": {},
   "source": [
    "# More Inspecting\n",
    "This project basically just boils down to inspecting the web page and then finding the correct selenium command to make the driver take the right action"
   ]
  },
  {
   "cell_type": "code",
   "execution_count": null,
   "metadata": {
    "collapsed": true
   },
   "outputs": [],
   "source": [
    "# Click advanced search\n",
    "inputElement = driver.find_element_by_id(\"advanced-search\").click()\n",
    "\n",
    "# Find out where the keywords textbox is and enter in your query\n",
    "inputElement = driver.find_element_by_id(\"advs-keywords\")\n",
    "inputElement.send_keys('\"data science\"')"
   ]
  },
  {
   "cell_type": "markdown",
   "metadata": {},
   "source": [
    "# Fill in any fields you like\n",
    "Explore all the textboxes, dropdowns and checkboxes to customize your search"
   ]
  },
  {
   "cell_type": "code",
   "execution_count": null,
   "metadata": {
    "collapsed": true
   },
   "outputs": [],
   "source": [
    "# Use the Select function imported from the top of the page\n",
    "dropdown = Select(driver.find_element_by_id(\"advs-locationType\"))\n",
    "\n",
    "# Here I search by specific area\n",
    "dropdown.select_by_value(\"I\")\n",
    "\n",
    "# Since I am from Houston, I choose a Houston zip code and all people within 75 miles from it\n",
    "driver.find_element_by_id(\"advs-postalCode\").send_keys('75201')\n",
    "Select(driver.find_element_by_id(\"advs-distance\")).select_by_value(\"75\")\n",
    "\n",
    "# Click to search\n",
    "driver.find_element_by_class_name(\"submit-advs\").click()"
   ]
  },
  {
   "cell_type": "markdown",
   "metadata": {},
   "source": [
    "# Sleeping...\n",
    "When running all the code at once, as is put together in one notebook cell at the bottom of this page, it will be important to make sure you pause the execution of the program with the time function inside the sleep module. Pausing execution is also a standard tactic when scraping on the web as many sites can easily detect non-human interaction and bump you off their site."
   ]
  },
  {
   "cell_type": "markdown",
   "metadata": {},
   "source": [
    "# Second degree connections\n",
    "LinkedIn only allows you to freely connect with people whom you have at least one connection with. You can purchase premium plans to be able to connect with 3rd degree\n",
    "\n",
    "# LinkedIn Premium\n",
    "I purchased a premium plan (usually the first month is free) so that I could have unlimited searches. Without it, you will be limited in your searches and you might not be able to make full use of this example."
   ]
  },
  {
   "cell_type": "code",
   "execution_count": null,
   "metadata": {
    "collapsed": true
   },
   "outputs": [],
   "source": [
    "# Here we sleep and then search for only second degre connections - those that L\n",
    "time.sleep(2)\n",
    "driver.find_element_by_id(\"S-N-ffs\").click()\n",
    "time.sleep(2)"
   ]
  },
  {
   "cell_type": "markdown",
   "metadata": {},
   "source": [
    "# Where the magic happens\n",
    "The below code will loop through all the pages that your search yields and click connect for each person. About 90% of the time 'invite sent' will be the result of the button click. Occasionally though, you will be directed to another page to enter in more information about the person"
   ]
  },
  {
   "cell_type": "markdown",
   "metadata": {},
   "source": [
    "# Edge Cases\n",
    "There are two cases that occur infrequently. \n",
    "1. LinkedIn will ask you for the person's email address\n",
    "2. LinkedIn will ask you how you know that person\n",
    "\n",
    "For case 1, you won't know their email, so we will just click back and resume clicking the buttons. We have to 'reacquire' the buttons again (you will see this in the code below)\n",
    "\n",
    "For case 2, we can connect with the person but we must select the radio button for 'friend' and click enter. This will actually navigate us to another page, and so now we need to go back twice to get back to the search page"
   ]
  },
  {
   "cell_type": "markdown",
   "metadata": {},
   "source": [
    "# Looping to the next page and exiting the program\n",
    "By inspecting the page again, we can see that the 'Next' button is the last of the 'page-link' class buttons. If the text of this button is not 'Next' we know that we will be on the last page and we can end the while loop. Otherwise we navigate to the next page"
   ]
  },
  {
   "cell_type": "code",
   "execution_count": null,
   "metadata": {
    "collapsed": true
   },
   "outputs": [],
   "source": [
    "# Keep looping through the search results until no 'Next' button\n",
    "while True:\n",
    "    # get the current url to test whether the invite button turned to 'invite sent' or navigated to a new page\n",
    "    current_url = driver.current_url\n",
    "    \n",
    "    # notice the 's' here to grab all 10 buttons\n",
    "    invite_buttons = driver.find_elements_by_class_name(\"primary-action-button\")\n",
    "    \n",
    "    # loop through all buttons. Dont use 'for button in invite_buttons' becuase of possibility of\n",
    "    # navigating to another page which will lose all button information\n",
    "    for i in range(len(invite_buttons)):\n",
    "        \n",
    "        # click 'invite'\n",
    "        invite_buttons[i].click()\n",
    "        time.sleep(.5)\n",
    "        \n",
    "        # in the edge case that we have navigated away from the search results\n",
    "        if current_url != driver.current_url:\n",
    "            \n",
    "            # if LinkedIn requires an email we simply navigate back\n",
    "            # otherwise we choose friend and navigate back twice\n",
    "            if 'Why do I have to enter an email address?' in driver.page_source:\n",
    "                print('Connection not possible. Need email')\n",
    "                print(driver.current_url)\n",
    "            else:\n",
    "                print('use friend')\n",
    "                print(driver.current_url)\n",
    "                driver.find_element_by_id(\"IF-reason-iweReconnect\").click()\n",
    "                driver.find_element_by_id(\"send-invite-button\").click()\n",
    "                time.sleep(5)\n",
    "                driver.back()\n",
    "            \n",
    "            # go back to search page\n",
    "            time.sleep(5)   \n",
    "            driver.back()\n",
    "            time.sleep(5)\n",
    "            \n",
    "            # reset the invite_buttons b/c they were lost when navigating away\n",
    "            invite_buttons = driver.find_elements_by_class_name(\"primary-action-button\")\n",
    "    \n",
    "    # Find the link to navigate to the next page\n",
    "    page_links = driver.find_elements_by_class_name(\"page-link\")\n",
    "    \n",
    "    # wait for all the clicking to be over\n",
    "    time.sleep(5)\n",
    "    \n",
    "    # The last link here is the 'Next' button\n",
    "    last_link = page_links[-1]\n",
    "    \n",
    "    # end loop if no more pages\n",
    "    if last_link.text[:4] != 'Next':\n",
    "        print('No more pages :()')\n",
    "        break\n",
    "        \n",
    "    # navigate to next page and ensure that it has finished loading\n",
    "    last_link.click()\n",
    "    time.sleep(5)"
   ]
  },
  {
   "cell_type": "markdown",
   "metadata": {},
   "source": [
    "# All together with no comments"
   ]
  },
  {
   "cell_type": "code",
   "execution_count": 21,
   "metadata": {
    "collapsed": false
   },
   "outputs": [],
   "source": [
    "from selenium import webdriver\n",
    "from selenium.webdriver.common.keys import Keys\n",
    "from selenium.webdriver.support.ui import Select\n",
    "import time\n",
    "\n",
    "driver_location = \"/Users/Ted/Documents/chromedriver/chromedriver\"\n",
    "driver = webdriver.Chrome(executable_path=driver_location)\n",
    "driver.get(\"http://www.linkedin.com\")\n",
    "\n",
    "inputElement = driver.find_element_by_id(\"login-email\")\n",
    "inputElement.send_keys('your-email')\n",
    "\n",
    "inputElement = driver.find_element_by_id(\"login-password\")\n",
    "inputElement.send_keys('your-password')\n",
    "\n",
    "inputElement.send_keys(Keys.ENTER)\n",
    "inputElement = driver.find_element_by_id(\"advanced-search\").click()\n",
    "\n",
    "inputElement = driver.find_element_by_id(\"advs-keywords\")\n",
    "inputElement.send_keys('\"machine learning\"')\n",
    "\n",
    "dropdown = Select(driver.find_element_by_id(\"advs-locationType\"))\n",
    "dropdown.select_by_value(\"I\")\n",
    "driver.find_element_by_id(\"advs-postalCode\").send_keys('77005')\n",
    "Select(driver.find_element_by_id(\"advs-distance\")).select_by_value(\"75\")\n",
    "\n",
    "driver.find_element_by_class_name(\"submit-advs\").click()\n",
    "\n",
    "time.sleep(2)\n",
    "driver.find_element_by_id(\"S-N-ffs\").click()\n",
    "time.sleep(5)\n",
    "\n",
    "while True:\n",
    "    current_url = driver.current_url\n",
    "    invite_buttons = driver.find_elements_by_class_name(\"primary-action-button\")\n",
    "    \n",
    "    for i in range(len(invite_buttons)):\n",
    "        invite_buttons[i].click()\n",
    "        time.sleep(.5)\n",
    "        if current_url != driver.current_url:\n",
    "            if 'Why do I have to enter an email address?' in driver.page_source:\n",
    "                print('Connection not possible. Need email')\n",
    "                print(driver.current_url)\n",
    "            else:\n",
    "                print('use friend')\n",
    "                print(driver.current_url)\n",
    "                driver.find_element_by_id(\"IF-reason-iweReconnect\").click()\n",
    "                driver.find_element_by_id(\"send-invite-button\").click()\n",
    "                time.sleep(5)\n",
    "                driver.back()\n",
    "\n",
    "            time.sleep(5)   \n",
    "            driver.back()\n",
    "            time.sleep(5)\n",
    "            invite_buttons = driver.find_elements_by_class_name(\"primary-action-button\")\n",
    "    \n",
    "    page_links = driver.find_elements_by_class_name(\"page-link\")\n",
    "    time.sleep(5)\n",
    "    \n",
    "    last_link = page_links[-1]\n",
    "\n",
    "    if last_link.text[:4] != 'Next':\n",
    "        print('No more pages :()')\n",
    "        break\n",
    "        \n",
    "    last_link.click()\n",
    "    time.sleep(5)"
   ]
  },
  {
   "cell_type": "markdown",
   "metadata": {},
   "source": [
    "# Welcome New Connections!\n",
    "If you liked this notebook, please join my meetup http://www.meetup.com/Houston-Data-Science/. We will have lots of free classes and helpful resources"
   ]
  },
  {
   "cell_type": "markdown",
   "metadata": {},
   "source": [
    "# But beware!\n",
    "You are limited to 5000 connections so don't waste them!"
   ]
  }
 ],
 "metadata": {
  "kernelspec": {
   "display_name": "Python 3",
   "language": "python",
   "name": "python3"
  },
  "language_info": {
   "codemirror_mode": {
    "name": "ipython",
    "version": 3
   },
   "file_extension": ".py",
   "mimetype": "text/x-python",
   "name": "python",
   "nbconvert_exporter": "python",
   "pygments_lexer": "ipython3",
   "version": "3.5.1"
  }
 },
 "nbformat": 4,
 "nbformat_minor": 0
}
