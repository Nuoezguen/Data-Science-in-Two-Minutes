{
 "cells": [
  {
   "cell_type": "markdown",
   "metadata": {},
   "source": [
    "# Growing Your LinkedIn Network from 500 to 5000 with Python\n",
    "If you are reading this, you probably recieved a LinkedIn request from me within the last few days. The reason for this was because I started a the [Houston Data Science meetup](http://www.meetup.com/Houston-Data-Science/) which will focus on teaching the theory and practice of data science and I wanted to attract new members.\n",
    "\n",
    "One of the easiest ways of increasing membership in my meetup was to head to LinkedIn and start inviting anyone with any 'data science' terms in their profile (which is quite a bit these days). After a few hundred manual key invites, I felt like smashing something to relieve the tension built up from the repetitive motion. \n",
    "\n",
    "Instead of resorting to breaking objects, I decided to let python rip apart LinkedIn for me. I recently did some automated web scraping with a wonderful python package, selenium. Selenium is an easy to use (like nearly every python package) and powerful tool that allows you to automate browser activity.\n",
    "\n",
    "In the following example, I will show you how to...\n",
    "1. log into LinkedIn\n",
    "1. Enter text into input boxes\n",
    "1. Click buttons\n",
    "1. Select Options\n",
    "1. Handle edge cases\n",
    "\n",
    "All with selenium"
   ]
  },
  {
   "cell_type": "markdown",
   "metadata": {},
   "source": [
    "# Getting Started\n",
    "If you are using python, you should have pip installed and a simple **pip install selenium** should install the package for you. Selenium works with all the popular browsers but with Chrome (which is used in this workbook), you must install [ChromeDriver found here](https://sites.google.com/a/chromium.org/chromedriver/downloads) for it to work."
   ]
  },
  {
   "cell_type": "code",
   "execution_count": 1,
   "metadata": {
    "collapsed": true
   },
   "outputs": [],
   "source": [
    "'''\n",
    "import just a few functions from selenium to get started\n",
    "the time module will be used to pause the execution of the program occasionally when web pages are loading\n",
    "'''\n",
    "from selenium import webdriver\n",
    "from selenium.webdriver.common.keys import Keys\n",
    "from selenium.webdriver.support.ui import Select\n",
    "import time"
   ]
  },
  {
   "cell_type": "code",
   "execution_count": 2,
   "metadata": {
    "collapsed": true
   },
   "outputs": [],
   "source": [
    "'''\n",
    "Begin Chrome and browse to LinkedIn. You won't be autologged into linkedin as selenium starts \n",
    "an instance of Chrome without knowledge of user data\n",
    "'''\n",
    "# The ChromeDriver is a necessity for selenium\n",
    "driver_location = \"/Users/Ted/Documents/chromedriver/chromedriver\"\n",
    "\n",
    "# The variable driver controls all actions\n",
    "driver = webdriver.Chrome(executable_path=driver_location)\n",
    "\n",
    "# A get request to navigate to LinkedIn\n",
    "driver.get(\"http://www.linkedin.com\")"
   ]
  },
  {
   "cell_type": "markdown",
   "metadata": {},
   "source": [
    "# Inspecting the page\n",
    "The above commands should open a new instance of Chrome and navigate to LinkedIn. At the top of LinkedIn's home page resides the Email and password text boxes. Right click in the Email textbox and select inspect. You should see something very similar to this image\n",
    "\n",
    "![this](inspect_email.png)\n",
    "\n",
    "We are interested in the highlighted html input element and specifically, its id which uniquely identifies it. The code below Enters in the user name and password into the textboxes and clicks enter"
   ]
  },
  {
   "cell_type": "code",
   "execution_count": 3,
   "metadata": {
    "collapsed": true
   },
   "outputs": [],
   "source": [
    "# Find the specific element with given id\n",
    "inputElement = driver.find_element_by_id(\"login-email\")\n",
    "\n",
    "# Enter in your user name\n",
    "inputElement.send_keys('your-email')\n",
    "\n",
    "# Go to password textbox and enter in the password\n",
    "inputElement = driver.find_element_by_id(\"login-password\")\n",
    "inputElement.send_keys('your-password')\n",
    "\n",
    "# Press Enter\n",
    "inputElement.send_keys(Keys.ENTER)"
   ]
  },
  {
   "cell_type": "markdown",
   "metadata": {},
   "source": [
    "# More Inspecting\n",
    "This project basically just boils down to inspecting the web page and then finding the correct selenium command to make the driver take the right action"
   ]
  },
  {
   "cell_type": "code",
   "execution_count": 4,
   "metadata": {
    "collapsed": true
   },
   "outputs": [],
   "source": [
    "# Click advanced search\n",
    "inputElement = driver.find_element_by_id(\"advanced-search\").click()\n",
    "\n",
    "# Find out where the keywords textbox is and enter in your query\n",
    "inputElement = driver.find_element_by_id(\"advs-keywords\")\n",
    "inputElement.send_keys('\"data science\"')"
   ]
  },
  {
   "cell_type": "markdown",
   "metadata": {},
   "source": [
    "# Fill in any fields you like\n",
    "Explore all the textboxes, dropdowns and checkboxes to customize your search"
   ]
  },
  {
   "cell_type": "code",
   "execution_count": 5,
   "metadata": {
    "collapsed": true
   },
   "outputs": [],
   "source": [
    "# Use the Select function imported from the top of the page\n",
    "dropdown = Select(driver.find_element_by_id(\"advs-locationType\"))\n",
    "\n",
    "# Here I search by specific area\n",
    "dropdown.select_by_value(\"I\")\n",
    "\n",
    "# Since I am from Houston, I choose a Houston zip code and all people within 75 miles from it\n",
    "driver.find_element_by_id(\"advs-postalCode\").send_keys('75201')\n",
    "Select(driver.find_element_by_id(\"advs-distance\")).select_by_value(\"75\")\n",
    "\n",
    "# Click to search\n",
    "driver.find_element_by_class_name(\"submit-advs\").click()"
   ]
  },
  {
   "cell_type": "markdown",
   "metadata": {},
   "source": [
    "# Sleeping...\n",
    "When running all the code at once, as is put together in one notebook cell at the bottom of this page, it will be important to make sure you pause the execution of the program with the time function inside the sleep module. Pausing execution is also a standard tactic when scraping on the web as many sites can easily detect non-human interaction and bump you off their site."
   ]
  },
  {
   "cell_type": "markdown",
   "metadata": {},
   "source": [
    "# Second degree connections\n",
    "LinkedIn only allows you to freely connect with people whom you have at least one connection with. You can purchase premium plans to be able to connect with 3rd degree\n",
    "\n",
    "# LinkedIn Premium\n",
    "I purchased a premium plan (usually the first month is free) so that I could have unlimited searches. Without it, you will be limited in your searches and you might not be able to make full use of this example."
   ]
  },
  {
   "cell_type": "code",
   "execution_count": 6,
   "metadata": {
    "collapsed": true
   },
   "outputs": [],
   "source": [
    "# Here we sleep and then search for only second degre connections - those that L\n",
    "time.sleep(2)\n",
    "driver.find_element_by_id(\"S-N-ffs\").click()\n",
    "time.sleep(2)"
   ]
  },
  {
   "cell_type": "markdown",
   "metadata": {},
   "source": [
    "# Where the magic happens\n",
    "The below code will loop through all the pages that your search yields and click connect for each person. About 90% of the time 'invite sent' will be the result of the button click. Occasionally though, you will be directed to another page to enter in more information about the person"
   ]
  },
  {
   "cell_type": "markdown",
   "metadata": {},
   "source": [
    "# Edge Cases\n",
    "There are two cases that occur infrequently. \n",
    "1. LinkedIn will ask you for the person's email address\n",
    "2. LinkedIn will ask you how you know that person\n",
    "\n",
    "For case 1, you won't know their email, so we will just click back and resume clicking the buttons. We have to 'reacquire' the buttons again (you will see this in the code below)\n",
    "\n",
    "For case 2, we can connect with the person but we must select the radio button for 'friend' and click enter. This will actually navigate us to another page, and so now we need to go back twice to get back to the search page"
   ]
  },
  {
   "cell_type": "markdown",
   "metadata": {},
   "source": [
    "# Looping to the next page and exiting the program\n",
    "By inspecting the page again, we can see that the 'Next' button is the last of the 'page-link' class buttons. If the text of this button is not 'Next' we know that we will be on the last page and we can end the while loop. Otherwise we navigate to the next page"
   ]
  },
  {
   "cell_type": "code",
   "execution_count": 7,
   "metadata": {
    "collapsed": false
   },
   "outputs": [
    {
     "name": "stdout",
     "output_type": "stream",
     "text": [
      "use friend\n"
     ]
    },
    {
     "ename": "StaleElementReferenceException",
     "evalue": "Message: stale element reference: element is not attached to the page document\n  (Session info: chrome=51.0.2704.103)\n  (Driver info: chromedriver=2.22.397929 (fb72fb249a903a0b1041ea71eb4c8b3fa0d9be5a),platform=Mac OS X 10.11.5 x86_64)\n",
     "output_type": "error",
     "traceback": [
      "\u001b[0;31m---------------------------------------------------------------------------\u001b[0m",
      "\u001b[0;31mStaleElementReferenceException\u001b[0m            Traceback (most recent call last)",
      "\u001b[0;32m<ipython-input-7-213b357bb275>\u001b[0m in \u001b[0;36m<module>\u001b[0;34m()\u001b[0m\n\u001b[1;32m     12\u001b[0m \u001b[0;34m\u001b[0m\u001b[0m\n\u001b[1;32m     13\u001b[0m         \u001b[0;31m# click 'invite'\u001b[0m\u001b[0;34m\u001b[0m\u001b[0;34m\u001b[0m\u001b[0m\n\u001b[0;32m---> 14\u001b[0;31m         \u001b[0minvite_buttons\u001b[0m\u001b[0;34m[\u001b[0m\u001b[0mi\u001b[0m\u001b[0;34m]\u001b[0m\u001b[0;34m.\u001b[0m\u001b[0mclick\u001b[0m\u001b[0;34m(\u001b[0m\u001b[0;34m)\u001b[0m\u001b[0;34m\u001b[0m\u001b[0m\n\u001b[0m\u001b[1;32m     15\u001b[0m \u001b[0;34m\u001b[0m\u001b[0m\n\u001b[1;32m     16\u001b[0m         \u001b[0;31m# in the edge case that we have navigated away from the search results\u001b[0m\u001b[0;34m\u001b[0m\u001b[0;34m\u001b[0m\u001b[0m\n",
      "\u001b[0;32m/Users/Ted/Documents/anaconda/lib/python3.5/site-packages/selenium/webdriver/remote/webelement.py\u001b[0m in \u001b[0;36mclick\u001b[0;34m(self)\u001b[0m\n\u001b[1;32m     71\u001b[0m     \u001b[0;32mdef\u001b[0m \u001b[0mclick\u001b[0m\u001b[0;34m(\u001b[0m\u001b[0mself\u001b[0m\u001b[0;34m)\u001b[0m\u001b[0;34m:\u001b[0m\u001b[0;34m\u001b[0m\u001b[0m\n\u001b[1;32m     72\u001b[0m         \u001b[0;34m\"\"\"Clicks the element.\"\"\"\u001b[0m\u001b[0;34m\u001b[0m\u001b[0m\n\u001b[0;32m---> 73\u001b[0;31m         \u001b[0mself\u001b[0m\u001b[0;34m.\u001b[0m\u001b[0m_execute\u001b[0m\u001b[0;34m(\u001b[0m\u001b[0mCommand\u001b[0m\u001b[0;34m.\u001b[0m\u001b[0mCLICK_ELEMENT\u001b[0m\u001b[0;34m)\u001b[0m\u001b[0;34m\u001b[0m\u001b[0m\n\u001b[0m\u001b[1;32m     74\u001b[0m \u001b[0;34m\u001b[0m\u001b[0m\n\u001b[1;32m     75\u001b[0m     \u001b[0;32mdef\u001b[0m \u001b[0msubmit\u001b[0m\u001b[0;34m(\u001b[0m\u001b[0mself\u001b[0m\u001b[0;34m)\u001b[0m\u001b[0;34m:\u001b[0m\u001b[0;34m\u001b[0m\u001b[0m\n",
      "\u001b[0;32m/Users/Ted/Documents/anaconda/lib/python3.5/site-packages/selenium/webdriver/remote/webelement.py\u001b[0m in \u001b[0;36m_execute\u001b[0;34m(self, command, params)\u001b[0m\n\u001b[1;32m    454\u001b[0m             \u001b[0mparams\u001b[0m \u001b[0;34m=\u001b[0m \u001b[0;34m{\u001b[0m\u001b[0;34m}\u001b[0m\u001b[0;34m\u001b[0m\u001b[0m\n\u001b[1;32m    455\u001b[0m         \u001b[0mparams\u001b[0m\u001b[0;34m[\u001b[0m\u001b[0;34m'id'\u001b[0m\u001b[0;34m]\u001b[0m \u001b[0;34m=\u001b[0m \u001b[0mself\u001b[0m\u001b[0;34m.\u001b[0m\u001b[0m_id\u001b[0m\u001b[0;34m\u001b[0m\u001b[0m\n\u001b[0;32m--> 456\u001b[0;31m         \u001b[0;32mreturn\u001b[0m \u001b[0mself\u001b[0m\u001b[0;34m.\u001b[0m\u001b[0m_parent\u001b[0m\u001b[0;34m.\u001b[0m\u001b[0mexecute\u001b[0m\u001b[0;34m(\u001b[0m\u001b[0mcommand\u001b[0m\u001b[0;34m,\u001b[0m \u001b[0mparams\u001b[0m\u001b[0;34m)\u001b[0m\u001b[0;34m\u001b[0m\u001b[0m\n\u001b[0m\u001b[1;32m    457\u001b[0m \u001b[0;34m\u001b[0m\u001b[0m\n\u001b[1;32m    458\u001b[0m     \u001b[0;32mdef\u001b[0m \u001b[0mfind_element\u001b[0m\u001b[0;34m(\u001b[0m\u001b[0mself\u001b[0m\u001b[0;34m,\u001b[0m \u001b[0mby\u001b[0m\u001b[0;34m=\u001b[0m\u001b[0mBy\u001b[0m\u001b[0;34m.\u001b[0m\u001b[0mID\u001b[0m\u001b[0;34m,\u001b[0m \u001b[0mvalue\u001b[0m\u001b[0;34m=\u001b[0m\u001b[0;32mNone\u001b[0m\u001b[0;34m)\u001b[0m\u001b[0;34m:\u001b[0m\u001b[0;34m\u001b[0m\u001b[0m\n",
      "\u001b[0;32m/Users/Ted/Documents/anaconda/lib/python3.5/site-packages/selenium/webdriver/remote/webdriver.py\u001b[0m in \u001b[0;36mexecute\u001b[0;34m(self, driver_command, params)\u001b[0m\n\u001b[1;32m    234\u001b[0m         \u001b[0mresponse\u001b[0m \u001b[0;34m=\u001b[0m \u001b[0mself\u001b[0m\u001b[0;34m.\u001b[0m\u001b[0mcommand_executor\u001b[0m\u001b[0;34m.\u001b[0m\u001b[0mexecute\u001b[0m\u001b[0;34m(\u001b[0m\u001b[0mdriver_command\u001b[0m\u001b[0;34m,\u001b[0m \u001b[0mparams\u001b[0m\u001b[0;34m)\u001b[0m\u001b[0;34m\u001b[0m\u001b[0m\n\u001b[1;32m    235\u001b[0m         \u001b[0;32mif\u001b[0m \u001b[0mresponse\u001b[0m\u001b[0;34m:\u001b[0m\u001b[0;34m\u001b[0m\u001b[0m\n\u001b[0;32m--> 236\u001b[0;31m             \u001b[0mself\u001b[0m\u001b[0;34m.\u001b[0m\u001b[0merror_handler\u001b[0m\u001b[0;34m.\u001b[0m\u001b[0mcheck_response\u001b[0m\u001b[0;34m(\u001b[0m\u001b[0mresponse\u001b[0m\u001b[0;34m)\u001b[0m\u001b[0;34m\u001b[0m\u001b[0m\n\u001b[0m\u001b[1;32m    237\u001b[0m             response['value'] = self._unwrap_value(\n\u001b[1;32m    238\u001b[0m                 response.get('value', None))\n",
      "\u001b[0;32m/Users/Ted/Documents/anaconda/lib/python3.5/site-packages/selenium/webdriver/remote/errorhandler.py\u001b[0m in \u001b[0;36mcheck_response\u001b[0;34m(self, response)\u001b[0m\n\u001b[1;32m    192\u001b[0m         \u001b[0;32melif\u001b[0m \u001b[0mexception_class\u001b[0m \u001b[0;34m==\u001b[0m \u001b[0mUnexpectedAlertPresentException\u001b[0m \u001b[0;32mand\u001b[0m \u001b[0;34m'alert'\u001b[0m \u001b[0;32min\u001b[0m \u001b[0mvalue\u001b[0m\u001b[0;34m:\u001b[0m\u001b[0;34m\u001b[0m\u001b[0m\n\u001b[1;32m    193\u001b[0m             \u001b[0;32mraise\u001b[0m \u001b[0mexception_class\u001b[0m\u001b[0;34m(\u001b[0m\u001b[0mmessage\u001b[0m\u001b[0;34m,\u001b[0m \u001b[0mscreen\u001b[0m\u001b[0;34m,\u001b[0m \u001b[0mstacktrace\u001b[0m\u001b[0;34m,\u001b[0m \u001b[0mvalue\u001b[0m\u001b[0;34m[\u001b[0m\u001b[0;34m'alert'\u001b[0m\u001b[0;34m]\u001b[0m\u001b[0;34m.\u001b[0m\u001b[0mget\u001b[0m\u001b[0;34m(\u001b[0m\u001b[0;34m'text'\u001b[0m\u001b[0;34m)\u001b[0m\u001b[0;34m)\u001b[0m\u001b[0;34m\u001b[0m\u001b[0m\n\u001b[0;32m--> 194\u001b[0;31m         \u001b[0;32mraise\u001b[0m \u001b[0mexception_class\u001b[0m\u001b[0;34m(\u001b[0m\u001b[0mmessage\u001b[0m\u001b[0;34m,\u001b[0m \u001b[0mscreen\u001b[0m\u001b[0;34m,\u001b[0m \u001b[0mstacktrace\u001b[0m\u001b[0;34m)\u001b[0m\u001b[0;34m\u001b[0m\u001b[0m\n\u001b[0m\u001b[1;32m    195\u001b[0m \u001b[0;34m\u001b[0m\u001b[0m\n\u001b[1;32m    196\u001b[0m     \u001b[0;32mdef\u001b[0m \u001b[0m_value_or_default\u001b[0m\u001b[0;34m(\u001b[0m\u001b[0mself\u001b[0m\u001b[0;34m,\u001b[0m \u001b[0mobj\u001b[0m\u001b[0;34m,\u001b[0m \u001b[0mkey\u001b[0m\u001b[0;34m,\u001b[0m \u001b[0mdefault\u001b[0m\u001b[0;34m)\u001b[0m\u001b[0;34m:\u001b[0m\u001b[0;34m\u001b[0m\u001b[0m\n",
      "\u001b[0;31mStaleElementReferenceException\u001b[0m: Message: stale element reference: element is not attached to the page document\n  (Session info: chrome=51.0.2704.103)\n  (Driver info: chromedriver=2.22.397929 (fb72fb249a903a0b1041ea71eb4c8b3fa0d9be5a),platform=Mac OS X 10.11.5 x86_64)\n"
     ]
    }
   ],
   "source": [
    "# Keep looping through the search results until no 'Next' button\n",
    "while True:\n",
    "    # get the current url to test whether the invite button turned to 'invite sent' or navigated to a new page\n",
    "    current_url = driver.current_url\n",
    "    \n",
    "    # notice the 's' here to grab all 10 buttons\n",
    "    invite_buttons = driver.find_elements_by_class_name(\"primary-action-button\")\n",
    "    \n",
    "    # loop through all buttons. Dont use 'for button in invite_buttons' becuase of possibility of\n",
    "    # navigating to another page which will lose all button information\n",
    "    for i in range(len(invite_buttons)):\n",
    "        \n",
    "        # click 'invite'\n",
    "        invite_buttons[i].click()\n",
    "        \n",
    "        # in the edge case that we have navigated away from the search results\n",
    "        if current_url != driver.current_url:\n",
    "            \n",
    "            # if LinkedIn requires an email we simply navigate back\n",
    "            # otherwise we choose friend and navigate back twice\n",
    "            if 'contacts-search-invite-submit-reconnect' in driver.current_url:\n",
    "                print('Connection not possible. Need email')\n",
    "                print(driver.current_url)\n",
    "            else:\n",
    "                print('use friend')\n",
    "                driver.find_element_by_id(\"IF-reason-iweReconnect\").click()\n",
    "                driver.find_element_by_id(\"send-invite-button\").click()\n",
    "                driver.back()\n",
    "                time.sleep(5)\n",
    "            \n",
    "            time.sleep(5)\n",
    "            driver.back()\n",
    "            time.sleep(5)\n",
    "            invite_buttons = driver.find_elements_by_class_name(\"primary-action-button\")\n",
    "    \n",
    "    # Find the link to navigate to the next page\n",
    "    page_links = driver.find_elements_by_class_name(\"page-link\")\n",
    "    \n",
    "    # wait for all the clicking to be over\n",
    "    time.sleep(5)\n",
    "    \n",
    "    # The last link here is the 'Next' button\n",
    "    last_link = page_links[-1]\n",
    "    \n",
    "    # end loop if no more pages\n",
    "    if last_link.text[:4] != 'Next':\n",
    "        print('No more pages :()')\n",
    "        break\n",
    "        \n",
    "    # navigate to next page and ensure that it has finished loading\n",
    "    last_link.click()\n",
    "    time.sleep(5)"
   ]
  },
  {
   "cell_type": "code",
   "execution_count": 17,
   "metadata": {
    "collapsed": false
   },
   "outputs": [
    {
     "name": "stdout",
     "output_type": "stream",
     "text": [
      "Connection not possible. Need email\n",
      "https://www.linkedin.com/people/contacts-search-invite-submit-reconnect?key=24036028&firstName=Travis&lastName=Buckingham%2C+MBA&authToken=ZN2l&authType=OUT_OF_NETWORK&connectionParam=member_desktop_search_people-vertical-module&csrfToken=ajax%3A2584756118204954097&trk=vsrp_people_res_invite_act\n",
      "Connection not possible. Need email\n",
      "https://www.linkedin.com/people/contacts-search-invite-submit-reconnect?key=235309680&firstName=Servais&lastName=Daligou&authToken=3po0&authType=OUT_OF_NETWORK&connectionParam=member_desktop_search_people-vertical-module&csrfToken=ajax%3A2584756118204954097&trk=vsrp_people_res_invite_act\n"
     ]
    },
    {
     "ename": "StaleElementReferenceException",
     "evalue": "Message: stale element reference: element is not attached to the page document\n  (Session info: chrome=51.0.2704.103)\n  (Driver info: chromedriver=2.22.397929 (fb72fb249a903a0b1041ea71eb4c8b3fa0d9be5a),platform=Mac OS X 10.11.5 x86_64)\n",
     "output_type": "error",
     "traceback": [
      "\u001b[0;31m---------------------------------------------------------------------------\u001b[0m",
      "\u001b[0;31mStaleElementReferenceException\u001b[0m            Traceback (most recent call last)",
      "\u001b[0;32m<ipython-input-17-d9e7671e8a1c>\u001b[0m in \u001b[0;36m<module>\u001b[0;34m()\u001b[0m\n\u001b[1;32m     59\u001b[0m     \u001b[0mlast_link\u001b[0m \u001b[0;34m=\u001b[0m \u001b[0mpage_links\u001b[0m\u001b[0;34m[\u001b[0m\u001b[0;34m-\u001b[0m\u001b[0;36m1\u001b[0m\u001b[0;34m]\u001b[0m\u001b[0;34m\u001b[0m\u001b[0m\n\u001b[1;32m     60\u001b[0m \u001b[0;34m\u001b[0m\u001b[0m\n\u001b[0;32m---> 61\u001b[0;31m     \u001b[0;32mif\u001b[0m \u001b[0mlast_link\u001b[0m\u001b[0;34m.\u001b[0m\u001b[0mtext\u001b[0m\u001b[0;34m[\u001b[0m\u001b[0;34m:\u001b[0m\u001b[0;36m4\u001b[0m\u001b[0;34m]\u001b[0m \u001b[0;34m!=\u001b[0m \u001b[0;34m'Next'\u001b[0m\u001b[0;34m:\u001b[0m\u001b[0;34m\u001b[0m\u001b[0m\n\u001b[0m\u001b[1;32m     62\u001b[0m         \u001b[0mprint\u001b[0m\u001b[0;34m(\u001b[0m\u001b[0;34m'No more pages :()'\u001b[0m\u001b[0;34m)\u001b[0m\u001b[0;34m\u001b[0m\u001b[0m\n\u001b[1;32m     63\u001b[0m         \u001b[0;32mbreak\u001b[0m\u001b[0;34m\u001b[0m\u001b[0m\n",
      "\u001b[0;32m/Users/Ted/Documents/anaconda/lib/python3.5/site-packages/selenium/webdriver/remote/webelement.py\u001b[0m in \u001b[0;36mtext\u001b[0;34m(self)\u001b[0m\n\u001b[1;32m     67\u001b[0m     \u001b[0;32mdef\u001b[0m \u001b[0mtext\u001b[0m\u001b[0;34m(\u001b[0m\u001b[0mself\u001b[0m\u001b[0;34m)\u001b[0m\u001b[0;34m:\u001b[0m\u001b[0;34m\u001b[0m\u001b[0m\n\u001b[1;32m     68\u001b[0m         \u001b[0;34m\"\"\"The text of the element.\"\"\"\u001b[0m\u001b[0;34m\u001b[0m\u001b[0m\n\u001b[0;32m---> 69\u001b[0;31m         \u001b[0;32mreturn\u001b[0m \u001b[0mself\u001b[0m\u001b[0;34m.\u001b[0m\u001b[0m_execute\u001b[0m\u001b[0;34m(\u001b[0m\u001b[0mCommand\u001b[0m\u001b[0;34m.\u001b[0m\u001b[0mGET_ELEMENT_TEXT\u001b[0m\u001b[0;34m)\u001b[0m\u001b[0;34m[\u001b[0m\u001b[0;34m'value'\u001b[0m\u001b[0;34m]\u001b[0m\u001b[0;34m\u001b[0m\u001b[0m\n\u001b[0m\u001b[1;32m     70\u001b[0m \u001b[0;34m\u001b[0m\u001b[0m\n\u001b[1;32m     71\u001b[0m     \u001b[0;32mdef\u001b[0m \u001b[0mclick\u001b[0m\u001b[0;34m(\u001b[0m\u001b[0mself\u001b[0m\u001b[0;34m)\u001b[0m\u001b[0;34m:\u001b[0m\u001b[0;34m\u001b[0m\u001b[0m\n",
      "\u001b[0;32m/Users/Ted/Documents/anaconda/lib/python3.5/site-packages/selenium/webdriver/remote/webelement.py\u001b[0m in \u001b[0;36m_execute\u001b[0;34m(self, command, params)\u001b[0m\n\u001b[1;32m    454\u001b[0m             \u001b[0mparams\u001b[0m \u001b[0;34m=\u001b[0m \u001b[0;34m{\u001b[0m\u001b[0;34m}\u001b[0m\u001b[0;34m\u001b[0m\u001b[0m\n\u001b[1;32m    455\u001b[0m         \u001b[0mparams\u001b[0m\u001b[0;34m[\u001b[0m\u001b[0;34m'id'\u001b[0m\u001b[0;34m]\u001b[0m \u001b[0;34m=\u001b[0m \u001b[0mself\u001b[0m\u001b[0;34m.\u001b[0m\u001b[0m_id\u001b[0m\u001b[0;34m\u001b[0m\u001b[0m\n\u001b[0;32m--> 456\u001b[0;31m         \u001b[0;32mreturn\u001b[0m \u001b[0mself\u001b[0m\u001b[0;34m.\u001b[0m\u001b[0m_parent\u001b[0m\u001b[0;34m.\u001b[0m\u001b[0mexecute\u001b[0m\u001b[0;34m(\u001b[0m\u001b[0mcommand\u001b[0m\u001b[0;34m,\u001b[0m \u001b[0mparams\u001b[0m\u001b[0;34m)\u001b[0m\u001b[0;34m\u001b[0m\u001b[0m\n\u001b[0m\u001b[1;32m    457\u001b[0m \u001b[0;34m\u001b[0m\u001b[0m\n\u001b[1;32m    458\u001b[0m     \u001b[0;32mdef\u001b[0m \u001b[0mfind_element\u001b[0m\u001b[0;34m(\u001b[0m\u001b[0mself\u001b[0m\u001b[0;34m,\u001b[0m \u001b[0mby\u001b[0m\u001b[0;34m=\u001b[0m\u001b[0mBy\u001b[0m\u001b[0;34m.\u001b[0m\u001b[0mID\u001b[0m\u001b[0;34m,\u001b[0m \u001b[0mvalue\u001b[0m\u001b[0;34m=\u001b[0m\u001b[0;32mNone\u001b[0m\u001b[0;34m)\u001b[0m\u001b[0;34m:\u001b[0m\u001b[0;34m\u001b[0m\u001b[0m\n",
      "\u001b[0;32m/Users/Ted/Documents/anaconda/lib/python3.5/site-packages/selenium/webdriver/remote/webdriver.py\u001b[0m in \u001b[0;36mexecute\u001b[0;34m(self, driver_command, params)\u001b[0m\n\u001b[1;32m    234\u001b[0m         \u001b[0mresponse\u001b[0m \u001b[0;34m=\u001b[0m \u001b[0mself\u001b[0m\u001b[0;34m.\u001b[0m\u001b[0mcommand_executor\u001b[0m\u001b[0;34m.\u001b[0m\u001b[0mexecute\u001b[0m\u001b[0;34m(\u001b[0m\u001b[0mdriver_command\u001b[0m\u001b[0;34m,\u001b[0m \u001b[0mparams\u001b[0m\u001b[0;34m)\u001b[0m\u001b[0;34m\u001b[0m\u001b[0m\n\u001b[1;32m    235\u001b[0m         \u001b[0;32mif\u001b[0m \u001b[0mresponse\u001b[0m\u001b[0;34m:\u001b[0m\u001b[0;34m\u001b[0m\u001b[0m\n\u001b[0;32m--> 236\u001b[0;31m             \u001b[0mself\u001b[0m\u001b[0;34m.\u001b[0m\u001b[0merror_handler\u001b[0m\u001b[0;34m.\u001b[0m\u001b[0mcheck_response\u001b[0m\u001b[0;34m(\u001b[0m\u001b[0mresponse\u001b[0m\u001b[0;34m)\u001b[0m\u001b[0;34m\u001b[0m\u001b[0m\n\u001b[0m\u001b[1;32m    237\u001b[0m             response['value'] = self._unwrap_value(\n\u001b[1;32m    238\u001b[0m                 response.get('value', None))\n",
      "\u001b[0;32m/Users/Ted/Documents/anaconda/lib/python3.5/site-packages/selenium/webdriver/remote/errorhandler.py\u001b[0m in \u001b[0;36mcheck_response\u001b[0;34m(self, response)\u001b[0m\n\u001b[1;32m    192\u001b[0m         \u001b[0;32melif\u001b[0m \u001b[0mexception_class\u001b[0m \u001b[0;34m==\u001b[0m \u001b[0mUnexpectedAlertPresentException\u001b[0m \u001b[0;32mand\u001b[0m \u001b[0;34m'alert'\u001b[0m \u001b[0;32min\u001b[0m \u001b[0mvalue\u001b[0m\u001b[0;34m:\u001b[0m\u001b[0;34m\u001b[0m\u001b[0m\n\u001b[1;32m    193\u001b[0m             \u001b[0;32mraise\u001b[0m \u001b[0mexception_class\u001b[0m\u001b[0;34m(\u001b[0m\u001b[0mmessage\u001b[0m\u001b[0;34m,\u001b[0m \u001b[0mscreen\u001b[0m\u001b[0;34m,\u001b[0m \u001b[0mstacktrace\u001b[0m\u001b[0;34m,\u001b[0m \u001b[0mvalue\u001b[0m\u001b[0;34m[\u001b[0m\u001b[0;34m'alert'\u001b[0m\u001b[0;34m]\u001b[0m\u001b[0;34m.\u001b[0m\u001b[0mget\u001b[0m\u001b[0;34m(\u001b[0m\u001b[0;34m'text'\u001b[0m\u001b[0;34m)\u001b[0m\u001b[0;34m)\u001b[0m\u001b[0;34m\u001b[0m\u001b[0m\n\u001b[0;32m--> 194\u001b[0;31m         \u001b[0;32mraise\u001b[0m \u001b[0mexception_class\u001b[0m\u001b[0;34m(\u001b[0m\u001b[0mmessage\u001b[0m\u001b[0;34m,\u001b[0m \u001b[0mscreen\u001b[0m\u001b[0;34m,\u001b[0m \u001b[0mstacktrace\u001b[0m\u001b[0;34m)\u001b[0m\u001b[0;34m\u001b[0m\u001b[0m\n\u001b[0m\u001b[1;32m    195\u001b[0m \u001b[0;34m\u001b[0m\u001b[0m\n\u001b[1;32m    196\u001b[0m     \u001b[0;32mdef\u001b[0m \u001b[0m_value_or_default\u001b[0m\u001b[0;34m(\u001b[0m\u001b[0mself\u001b[0m\u001b[0;34m,\u001b[0m \u001b[0mobj\u001b[0m\u001b[0;34m,\u001b[0m \u001b[0mkey\u001b[0m\u001b[0;34m,\u001b[0m \u001b[0mdefault\u001b[0m\u001b[0;34m)\u001b[0m\u001b[0;34m:\u001b[0m\u001b[0;34m\u001b[0m\u001b[0m\n",
      "\u001b[0;31mStaleElementReferenceException\u001b[0m: Message: stale element reference: element is not attached to the page document\n  (Session info: chrome=51.0.2704.103)\n  (Driver info: chromedriver=2.22.397929 (fb72fb249a903a0b1041ea71eb4c8b3fa0d9be5a),platform=Mac OS X 10.11.5 x86_64)\n"
     ]
    }
   ],
   "source": [
    "from selenium import webdriver\n",
    "from selenium.webdriver.common.keys import Keys\n",
    "from selenium.webdriver.support.ui import Select\n",
    "import time\n",
    "\n",
    "driver_location = \"/Users/Ted/Documents/chromedriver/chromedriver\"\n",
    "driver = webdriver.Chrome(executable_path=driver_location)\n",
    "driver.get(\"http://www.linkedin.com\")\n",
    "\n",
    "inputElement = driver.find_element_by_id(\"login-email\")\n",
    "inputElement.send_keys('your-email')\n",
    "\n",
    "inputElement = driver.find_element_by_id(\"login-password\")\n",
    "inputElement.send_keys('your-password')\n",
    "\n",
    "inputElement.send_keys(Keys.ENTER)\n",
    "inputElement = driver.find_element_by_id(\"advanced-search\").click()\n",
    "\n",
    "inputElement = driver.find_element_by_id(\"advs-keywords\")\n",
    "inputElement.send_keys('\"analytics\"')\n",
    "\n",
    "dropdown = Select(driver.find_element_by_id(\"advs-locationType\"))\n",
    "dropdown.select_by_value(\"I\")\n",
    "driver.find_element_by_id(\"advs-postalCode\").send_keys('77521')\n",
    "Select(driver.find_element_by_id(\"advs-distance\")).select_by_value(\"75\")\n",
    "\n",
    "driver.find_element_by_class_name(\"submit-advs\").click()\n",
    "\n",
    "time.sleep(2)\n",
    "driver.find_element_by_id(\"S-N-ffs\").click()\n",
    "time.sleep(2)\n",
    "\n",
    "while True:\n",
    "    current_url = driver.current_url\n",
    "    invite_buttons = driver.find_elements_by_class_name(\"primary-action-button\")\n",
    "    \n",
    "    for i in range(len(invite_buttons)):\n",
    "        invite_buttons[i].click()\n",
    "        if current_url != driver.current_url:\n",
    "            if 'Why do I have to enter an email address?' in driver.page_source:\n",
    "                print('Connection not possible. Need email')\n",
    "                print(driver.current_url)\n",
    "            else:\n",
    "                print('use friend')\n",
    "                print(driver.current_url)\n",
    "                driver.find_element_by_id(\"IF-reason-iweReconnect\").click()\n",
    "                driver.find_element_by_id(\"send-invite-button\").click()\n",
    "                time.sleep(5)\n",
    "                driver.back()\n",
    "\n",
    "            time.sleep(5)   \n",
    "            driver.back()\n",
    "            time.sleep(5)\n",
    "            invite_buttons = driver.find_elements_by_class_name(\"primary-action-button\")\n",
    "    \n",
    "    page_links = driver.find_elements_by_class_name(\"page-link\")\n",
    "    time.sleep(5)\n",
    "    \n",
    "    last_link = page_links[-1]\n",
    "\n",
    "    if last_link.text[:4] != 'Next':\n",
    "        print('No more pages :()')\n",
    "        break\n",
    "        \n",
    "    last_link.click()\n",
    "    time.sleep(5)"
   ]
  },
  {
   "cell_type": "code",
   "execution_count": 18,
   "metadata": {
    "collapsed": false
   },
   "outputs": [
    {
     "data": {
      "text/plain": [
       "<selenium.webdriver.remote.webelement.WebElement (session=\"ba1f57557767e313d454d1cd872b9be8\", element=\"0.9967556576148746-147\")>"
      ]
     },
     "execution_count": 18,
     "metadata": {},
     "output_type": "execute_result"
    }
   ],
   "source": [
    "last_link"
   ]
  },
  {
   "cell_type": "code",
   "execution_count": null,
   "metadata": {
    "collapsed": true
   },
   "outputs": [],
   "source": []
  }
 ],
 "metadata": {
  "kernelspec": {
   "display_name": "Python 3",
   "language": "python",
   "name": "python3"
  },
  "language_info": {
   "codemirror_mode": {
    "name": "ipython",
    "version": 3
   },
   "file_extension": ".py",
   "mimetype": "text/x-python",
   "name": "python",
   "nbconvert_exporter": "python",
   "pygments_lexer": "ipython3",
   "version": "3.5.1"
  }
 },
 "nbformat": 4,
 "nbformat_minor": 0
}
