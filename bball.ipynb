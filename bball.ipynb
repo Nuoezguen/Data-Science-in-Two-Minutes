{
 "cells": [
  {
   "cell_type": "markdown",
   "metadata": {},
   "source": [
    "# Animating Complete NBA Games with matplotlib and pandas\n",
    "\n",
    "In this notebook, we will explore pulling shot positional data from the NBA's undocumented API and then animating entire games with matplotlib one shot at a time. \n",
    "### Motivation\n",
    "If you are unfamiliar with what is meant by 'shot positional data', let's first take a look at an example below of the last game played between the Cleveland Cavaliers and the Golden State Warriors on June 13, 2016 pulled directly from the excellent basketball data website [basketballreference.com](http://www.basketballreference.com)."
   ]
  },
  {
   "cell_type": "code",
   "execution_count": 1,
   "metadata": {
    "collapsed": false
   },
   "outputs": [
    {
     "data": {
      "text/html": [
       "<iframe src=http://www.basketball-reference.com/boxscores/shot-chart/201606130GSW.html#shot_chart-CLE width=1050 height=600 scrolling=\"no\"></iframe>"
      ],
      "text/plain": [
       "<IPython.core.display.HTML object>"
      ]
     },
     "execution_count": 1,
     "metadata": {},
     "output_type": "execute_result"
    }
   ],
   "source": [
    "'''\n",
    "baseketballreference.com creates nifty little visualizations of each shot taken by each team.\n",
    "\n",
    "To inject the basketballreference shot visualizations we can take advantage of the IPython.display module. \n",
    "Here we simply insert an iframe (of a particularl part of the game page) directly into the ipython notebook\n",
    "'''\n",
    "from IPython.display import HTML\n",
    "HTML('<iframe src=http://www.basketball-reference.com/boxscores/shot-chart/201606130GSW.html#shot_chart-CLE width=1050 height=600 scrolling=\"no\"></iframe>')"
   ]
  },
  {
   "cell_type": "markdown",
   "metadata": {},
   "source": [
    "# Practice through Replication\n",
    "This visual looks quite good and a good challenge would be to attempt to replicate it in python's visualization library matplotlib. To start, we need to get the exact court positions for all shots and whether the shot was made or not. We could try scraping the web page above but this seems a bit too manual.\n",
    "\n",
    "## Using an API\n",
    "It's usally a good idea to search for an easier more direct way of extracting the data than by manually scraping if possible. It turns out, the NBA has an unofficial API that was reverse engineered in a fantastic [blog post by Greg Reda](http://www.gregreda.com/2015/02/15/web-scraping-finding-the-api/). The post is an excellent read on how to discover an API with your browser's developer tools.\n",
    "\n",
    "## API Documentation\n",
    "Althought no official documentation of the NBA stats API exists to my knowledge, some helpful endpoint documentation [can be found here](https://github.com/seemethere/nba_py/wiki/stats.nba.com-Endpoint-Documentation)\n",
    "\n",
    "## Accessing the correct endpoint\n",
    "All the NBA API endpoints can be accessed via **`stats.nba.com/stats/<specific endpoint>?<list of paramters>`**. By using the endpoint documentation above we can get all shots from a specific game using the **shotchartdetail** endpoint. All parameters must be present in the API request url even if they do not take a value. As there is no official documentation it will take some hacking around to get the results that are needed.\n",
    "\n",
    "## GameID\n",
    "The most important parameter in the url below is **GameID** which (for now) will have to be manually retreived by visiting **stats.nba.com** and finding the game you are interested in. You should come across the GameID by looking at the [box score of a game](http://stats.nba.com/game/#!/0041500405/)."
   ]
  },
  {
   "cell_type": "code",
   "execution_count": 7,
   "metadata": {
    "collapsed": true
   },
   "outputs": [],
   "source": [
    "'''\n",
    "most recent Cleveland vs Golden State Game\n",
    "'''\n",
    "game_id = '0041500405'"
   ]
  },
  {
   "cell_type": "markdown",
   "metadata": {},
   "source": [
    "## Build URL\n",
    "From the API documentaion, you can experimentally build a URL that can be used to retrieve results"
   ]
  },
  {
   "cell_type": "code",
   "execution_count": 8,
   "metadata": {
    "collapsed": false
   },
   "outputs": [],
   "source": [
    "'''\n",
    "Build the URL by writing out all the parameters for the endpoint\n",
    ".format replaces the curl braces {} with the value of game_id\n",
    "'''\n",
    "SHOT_CHART_URL = 'http://stats.nba.com/stats/shotchartdetail?ContextFilter='\\\n",
    "        '&ContextMeasure=FGA&DateFrom=&DateTo=&GameID={}&GameSegment=&LastNGames=0&LeagueID=00'\\\n",
    "        '&Location=&MeasureType=Base&Month=0&OpponentTeamID=0&Outcome=&PaceAdjust=N&PerMode=PerGame' \\\n",
    "        '&Period=0&PlayerID=0&PlusMinus=N&Position=&Rank=N&RookieYear=&Season=2015-16&SeasonSegment='\\\n",
    "        '&SeasonType=Playoffs&TeamID=0&VsConference=&VsDivision=&mode=Advanced&showDetails=0'\\\n",
    "        '&showShots=1&showZones=0'.format(game_id);"
   ]
  },
  {
   "cell_type": "code",
   "execution_count": 10,
   "metadata": {
    "collapsed": false
   },
   "outputs": [],
   "source": [
    "# %system curl \"$SHOT_CHART_URL\""
   ]
  },
  {
   "cell_type": "markdown",
   "metadata": {},
   "source": [
    "## Retreive data using requests library\n",
    "The third party requests library provides very easy syntax to retreive http requests."
   ]
  },
  {
   "cell_type": "code",
   "execution_count": 11,
   "metadata": {
    "collapsed": false
   },
   "outputs": [],
   "source": [
    "'''\n",
    "Use requests library to issue get request. \n",
    "Use json method to turn response into python dictionary\n",
    "'''\n",
    "import requests\n",
    "response = requests.get(SHOT_CHART_URL)\n",
    "data = response.json()"
   ]
  },
  {
   "cell_type": "code",
   "execution_count": 12,
   "metadata": {
    "collapsed": false
   },
   "outputs": [
    {
     "data": {
      "text/plain": [
       "dict_keys(['resource', 'parameters', 'resultSets'])"
      ]
     },
     "execution_count": 12,
     "metadata": {},
     "output_type": "execute_result"
    }
   ],
   "source": [
    "'''\n",
    "Inspect data, which is now a python dictionary\n",
    "'''\n",
    "data.keys()"
   ]
  },
  {
   "cell_type": "code",
   "execution_count": 13,
   "metadata": {
    "collapsed": false
   },
   "outputs": [
    {
     "data": {
      "text/plain": [
       "'shotchartdetail'"
      ]
     },
     "execution_count": 13,
     "metadata": {},
     "output_type": "execute_result"
    }
   ],
   "source": [
    "data['resource']"
   ]
  },
  {
   "cell_type": "code",
   "execution_count": 14,
   "metadata": {
    "collapsed": false
   },
   "outputs": [
    {
     "data": {
      "text/plain": [
       "{'AheadBehind': None,\n",
       " 'ClutchTime': None,\n",
       " 'ContextFilter': '',\n",
       " 'ContextMeasure': 'FGA',\n",
       " 'DateFrom': None,\n",
       " 'DateTo': None,\n",
       " 'EndPeriod': None,\n",
       " 'EndRange': None,\n",
       " 'GameID': '0041500405',\n",
       " 'GameSegment': None,\n",
       " 'LastNGames': 0,\n",
       " 'LeagueID': '00',\n",
       " 'Location': None,\n",
       " 'Month': 0,\n",
       " 'OpponentTeamID': 0,\n",
       " 'Outcome': None,\n",
       " 'Period': 0,\n",
       " 'PlayerID': 0,\n",
       " 'PointDiff': None,\n",
       " 'Position': None,\n",
       " 'RangeType': None,\n",
       " 'RookieYear': None,\n",
       " 'Season': '2015-16',\n",
       " 'SeasonSegment': None,\n",
       " 'SeasonType': 'Playoffs',\n",
       " 'StartPeriod': None,\n",
       " 'StartRange': None,\n",
       " 'TeamID': 0,\n",
       " 'VsConference': None,\n",
       " 'VsDivision': None}"
      ]
     },
     "execution_count": 14,
     "metadata": {},
     "output_type": "execute_result"
    }
   ],
   "source": [
    "'''\n",
    "Take a look at the parameters passed to the get request\n",
    "'''\n",
    "data['parameters']"
   ]
  },
  {
   "cell_type": "markdown",
   "metadata": {},
   "source": [
    "## Here comes pandas\n",
    "pandas is a fantastic library to manipulate, summarize and transform tabular (row/column) data. After some inspecting it appears that the tabular data is stored in the **resultsSets** key. There are two datasets returned. A small dataset that summarizes (I call it **df_summary**) all of the shots taken and much larger data set that contains very detailed data on each attempted shot (which I call **df_shots**)"
   ]
  },
  {
   "cell_type": "code",
   "execution_count": 15,
   "metadata": {
    "collapsed": true
   },
   "outputs": [],
   "source": [
    "'''\n",
    "bring pandas into the namespace and alias it to pd as is convention\n",
    "'''\n",
    "import pandas as pd"
   ]
  },
  {
   "cell_type": "code",
   "execution_count": 16,
   "metadata": {
    "collapsed": false
   },
   "outputs": [
    {
     "data": {
      "text/plain": [
       "dict_keys(['rowSet', 'headers', 'name'])"
      ]
     },
     "execution_count": 16,
     "metadata": {},
     "output_type": "execute_result"
    }
   ],
   "source": [
    "data['resultSets'][0].keys()"
   ]
  },
  {
   "cell_type": "code",
   "execution_count": 17,
   "metadata": {
    "collapsed": true
   },
   "outputs": [],
   "source": [
    "column_data = data['resultSets'][0]['rowSet']\n",
    "column_names = data['resultSets'][0]['headers']"
   ]
  },
  {
   "cell_type": "code",
   "execution_count": 18,
   "metadata": {
    "collapsed": false
   },
   "outputs": [],
   "source": [
    "'''\n",
    "The primary pandas object is the DataFrame, which contains the tabular data and comes with a\n",
    "huge supply of methods that act on your data\n",
    "'''\n",
    "df_shots = pd.DataFrame(column_data, columns=column_names)"
   ]
  },
  {
   "cell_type": "code",
   "execution_count": 19,
   "metadata": {
    "collapsed": true
   },
   "outputs": [],
   "source": [
    "'''\n",
    "Create another DataFrame for the less important summary data set\n",
    "'''\n",
    "column_data = data['resultSets'][1]['rowSet']\n",
    "column_names = data['resultSets'][1]['headers']\n",
    "df_summary = pd.DataFrame(column_data, columns=column_names)"
   ]
  },
  {
   "cell_type": "code",
   "execution_count": 20,
   "metadata": {
    "collapsed": false
   },
   "outputs": [
    {
     "data": {
      "text/html": [
       "<div>\n",
       "<table border=\"1\" class=\"dataframe\">\n",
       "  <thead>\n",
       "    <tr style=\"text-align: right;\">\n",
       "      <th></th>\n",
       "      <th>GRID_TYPE</th>\n",
       "      <th>SHOT_ZONE_BASIC</th>\n",
       "      <th>SHOT_ZONE_AREA</th>\n",
       "      <th>SHOT_ZONE_RANGE</th>\n",
       "      <th>FGA</th>\n",
       "      <th>FGM</th>\n",
       "      <th>FG_PCT</th>\n",
       "    </tr>\n",
       "  </thead>\n",
       "  <tbody>\n",
       "    <tr>\n",
       "      <th>0</th>\n",
       "      <td>League Averages</td>\n",
       "      <td>Above the Break 3</td>\n",
       "      <td>Back Court(BC)</td>\n",
       "      <td>Back Court Shot</td>\n",
       "      <td>3</td>\n",
       "      <td>1</td>\n",
       "      <td>0.333</td>\n",
       "    </tr>\n",
       "    <tr>\n",
       "      <th>1</th>\n",
       "      <td>League Averages</td>\n",
       "      <td>Above the Break 3</td>\n",
       "      <td>Center(C)</td>\n",
       "      <td>24+ ft.</td>\n",
       "      <td>800</td>\n",
       "      <td>260</td>\n",
       "      <td>0.325</td>\n",
       "    </tr>\n",
       "    <tr>\n",
       "      <th>2</th>\n",
       "      <td>League Averages</td>\n",
       "      <td>Above the Break 3</td>\n",
       "      <td>Left Side Center(LC)</td>\n",
       "      <td>24+ ft.</td>\n",
       "      <td>1217</td>\n",
       "      <td>418</td>\n",
       "      <td>0.343</td>\n",
       "    </tr>\n",
       "    <tr>\n",
       "      <th>3</th>\n",
       "      <td>League Averages</td>\n",
       "      <td>Above the Break 3</td>\n",
       "      <td>Right Side Center(RC)</td>\n",
       "      <td>24+ ft.</td>\n",
       "      <td>1113</td>\n",
       "      <td>408</td>\n",
       "      <td>0.367</td>\n",
       "    </tr>\n",
       "    <tr>\n",
       "      <th>4</th>\n",
       "      <td>League Averages</td>\n",
       "      <td>Backcourt</td>\n",
       "      <td>Back Court(BC)</td>\n",
       "      <td>Back Court Shot</td>\n",
       "      <td>38</td>\n",
       "      <td>0</td>\n",
       "      <td>0.000</td>\n",
       "    </tr>\n",
       "  </tbody>\n",
       "</table>\n",
       "</div>"
      ],
      "text/plain": [
       "         GRID_TYPE    SHOT_ZONE_BASIC         SHOT_ZONE_AREA  SHOT_ZONE_RANGE  \\\n",
       "0  League Averages  Above the Break 3         Back Court(BC)  Back Court Shot   \n",
       "1  League Averages  Above the Break 3              Center(C)          24+ ft.   \n",
       "2  League Averages  Above the Break 3   Left Side Center(LC)          24+ ft.   \n",
       "3  League Averages  Above the Break 3  Right Side Center(RC)          24+ ft.   \n",
       "4  League Averages          Backcourt         Back Court(BC)  Back Court Shot   \n",
       "\n",
       "    FGA  FGM  FG_PCT  \n",
       "0     3    1   0.333  \n",
       "1   800  260   0.325  \n",
       "2  1217  418   0.343  \n",
       "3  1113  408   0.367  \n",
       "4    38    0   0.000  "
      ]
     },
     "execution_count": 20,
     "metadata": {},
     "output_type": "execute_result"
    }
   ],
   "source": [
    "'''\n",
    "Inspect the top of the summary DataFrame\n",
    "'''\n",
    "df_summary.head()"
   ]
  },
  {
   "cell_type": "code",
   "execution_count": 21,
   "metadata": {
    "collapsed": false
   },
   "outputs": [
    {
     "data": {
      "text/plain": [
       "Jump Shot             74\n",
       "Pullup Jump shot      29\n",
       "Layup Shot            14\n",
       "Driving Layup Shot     8\n",
       "Fadeaway Jump Shot     6\n",
       "Name: ACTION_TYPE, dtype: int64"
      ]
     },
     "execution_count": 21,
     "metadata": {},
     "output_type": "execute_result"
    }
   ],
   "source": [
    "'''\n",
    "Get some summary statistics on a single column\n",
    "'''\n",
    "df_shots['ACTION_TYPE'].value_counts().head()"
   ]
  },
  {
   "cell_type": "code",
   "execution_count": 22,
   "metadata": {
    "collapsed": false
   },
   "outputs": [
    {
     "data": {
      "text/plain": [
       "Index(['GRID_TYPE', 'GAME_ID', 'GAME_EVENT_ID', 'PLAYER_ID', 'PLAYER_NAME',\n",
       "       'TEAM_ID', 'TEAM_NAME', 'PERIOD', 'MINUTES_REMAINING',\n",
       "       'SECONDS_REMAINING', 'EVENT_TYPE', 'ACTION_TYPE', 'SHOT_TYPE',\n",
       "       'SHOT_ZONE_BASIC', 'SHOT_ZONE_AREA', 'SHOT_ZONE_RANGE', 'SHOT_DISTANCE',\n",
       "       'LOC_X', 'LOC_Y', 'SHOT_ATTEMPTED_FLAG', 'SHOT_MADE_FLAG'],\n",
       "      dtype='object')"
      ]
     },
     "execution_count": 22,
     "metadata": {},
     "output_type": "execute_result"
    }
   ],
   "source": [
    "'''\n",
    "Take a look at all the columns in the df_shots DataFrame\n",
    "'''\n",
    "df_shots.columns"
   ]
  },
  {
   "cell_type": "code",
   "execution_count": 23,
   "metadata": {
    "collapsed": false
   },
   "outputs": [
    {
     "data": {
      "text/html": [
       "<div>\n",
       "<table border=\"1\" class=\"dataframe\">\n",
       "  <thead>\n",
       "    <tr style=\"text-align: right;\">\n",
       "      <th></th>\n",
       "      <th>GRID_TYPE</th>\n",
       "      <th>GAME_ID</th>\n",
       "      <th>GAME_EVENT_ID</th>\n",
       "      <th>PLAYER_ID</th>\n",
       "      <th>PLAYER_NAME</th>\n",
       "      <th>TEAM_ID</th>\n",
       "      <th>TEAM_NAME</th>\n",
       "      <th>PERIOD</th>\n",
       "      <th>MINUTES_REMAINING</th>\n",
       "      <th>SECONDS_REMAINING</th>\n",
       "      <th>...</th>\n",
       "      <th>ACTION_TYPE</th>\n",
       "      <th>SHOT_TYPE</th>\n",
       "      <th>SHOT_ZONE_BASIC</th>\n",
       "      <th>SHOT_ZONE_AREA</th>\n",
       "      <th>SHOT_ZONE_RANGE</th>\n",
       "      <th>SHOT_DISTANCE</th>\n",
       "      <th>LOC_X</th>\n",
       "      <th>LOC_Y</th>\n",
       "      <th>SHOT_ATTEMPTED_FLAG</th>\n",
       "      <th>SHOT_MADE_FLAG</th>\n",
       "    </tr>\n",
       "  </thead>\n",
       "  <tbody>\n",
       "    <tr>\n",
       "      <th>0</th>\n",
       "      <td>Shot Chart Detail</td>\n",
       "      <td>0041500405</td>\n",
       "      <td>4</td>\n",
       "      <td>2738</td>\n",
       "      <td>Andre Iguodala</td>\n",
       "      <td>1610612744</td>\n",
       "      <td>Golden State Warriors</td>\n",
       "      <td>1</td>\n",
       "      <td>11</td>\n",
       "      <td>24</td>\n",
       "      <td>...</td>\n",
       "      <td>Running Finger Roll Layup Shot</td>\n",
       "      <td>2PT Field Goal</td>\n",
       "      <td>Restricted Area</td>\n",
       "      <td>Center(C)</td>\n",
       "      <td>Less Than 8 ft.</td>\n",
       "      <td>2</td>\n",
       "      <td>-2</td>\n",
       "      <td>21</td>\n",
       "      <td>1</td>\n",
       "      <td>1</td>\n",
       "    </tr>\n",
       "    <tr>\n",
       "      <th>1</th>\n",
       "      <td>Shot Chart Detail</td>\n",
       "      <td>0041500405</td>\n",
       "      <td>5</td>\n",
       "      <td>202681</td>\n",
       "      <td>Kyrie Irving</td>\n",
       "      <td>1610612739</td>\n",
       "      <td>Cleveland Cavaliers</td>\n",
       "      <td>1</td>\n",
       "      <td>11</td>\n",
       "      <td>8</td>\n",
       "      <td>...</td>\n",
       "      <td>Pullup Jump shot</td>\n",
       "      <td>3PT Field Goal</td>\n",
       "      <td>Above the Break 3</td>\n",
       "      <td>Center(C)</td>\n",
       "      <td>24+ ft.</td>\n",
       "      <td>25</td>\n",
       "      <td>-9</td>\n",
       "      <td>259</td>\n",
       "      <td>1</td>\n",
       "      <td>1</td>\n",
       "    </tr>\n",
       "    <tr>\n",
       "      <th>2</th>\n",
       "      <td>Shot Chart Detail</td>\n",
       "      <td>0041500405</td>\n",
       "      <td>6</td>\n",
       "      <td>202691</td>\n",
       "      <td>Klay Thompson</td>\n",
       "      <td>1610612744</td>\n",
       "      <td>Golden State Warriors</td>\n",
       "      <td>1</td>\n",
       "      <td>10</td>\n",
       "      <td>49</td>\n",
       "      <td>...</td>\n",
       "      <td>Pullup Jump shot</td>\n",
       "      <td>3PT Field Goal</td>\n",
       "      <td>Left Corner 3</td>\n",
       "      <td>Left Side(L)</td>\n",
       "      <td>24+ ft.</td>\n",
       "      <td>22</td>\n",
       "      <td>-228</td>\n",
       "      <td>-6</td>\n",
       "      <td>1</td>\n",
       "      <td>0</td>\n",
       "    </tr>\n",
       "    <tr>\n",
       "      <th>3</th>\n",
       "      <td>Shot Chart Detail</td>\n",
       "      <td>0041500405</td>\n",
       "      <td>8</td>\n",
       "      <td>2544</td>\n",
       "      <td>LeBron James</td>\n",
       "      <td>1610612739</td>\n",
       "      <td>Cleveland Cavaliers</td>\n",
       "      <td>1</td>\n",
       "      <td>10</td>\n",
       "      <td>36</td>\n",
       "      <td>...</td>\n",
       "      <td>Turnaround Fadeaway shot</td>\n",
       "      <td>2PT Field Goal</td>\n",
       "      <td>Mid-Range</td>\n",
       "      <td>Left Side(L)</td>\n",
       "      <td>8-16 ft.</td>\n",
       "      <td>11</td>\n",
       "      <td>-112</td>\n",
       "      <td>31</td>\n",
       "      <td>1</td>\n",
       "      <td>0</td>\n",
       "    </tr>\n",
       "    <tr>\n",
       "      <th>4</th>\n",
       "      <td>Shot Chart Detail</td>\n",
       "      <td>0041500405</td>\n",
       "      <td>10</td>\n",
       "      <td>201939</td>\n",
       "      <td>Stephen Curry</td>\n",
       "      <td>1610612744</td>\n",
       "      <td>Golden State Warriors</td>\n",
       "      <td>1</td>\n",
       "      <td>10</td>\n",
       "      <td>25</td>\n",
       "      <td>...</td>\n",
       "      <td>Pullup Jump shot</td>\n",
       "      <td>3PT Field Goal</td>\n",
       "      <td>Above the Break 3</td>\n",
       "      <td>Right Side Center(RC)</td>\n",
       "      <td>24+ ft.</td>\n",
       "      <td>25</td>\n",
       "      <td>195</td>\n",
       "      <td>164</td>\n",
       "      <td>1</td>\n",
       "      <td>1</td>\n",
       "    </tr>\n",
       "  </tbody>\n",
       "</table>\n",
       "<p>5 rows × 21 columns</p>\n",
       "</div>"
      ],
      "text/plain": [
       "           GRID_TYPE     GAME_ID  GAME_EVENT_ID  PLAYER_ID     PLAYER_NAME  \\\n",
       "0  Shot Chart Detail  0041500405              4       2738  Andre Iguodala   \n",
       "1  Shot Chart Detail  0041500405              5     202681    Kyrie Irving   \n",
       "2  Shot Chart Detail  0041500405              6     202691   Klay Thompson   \n",
       "3  Shot Chart Detail  0041500405              8       2544    LeBron James   \n",
       "4  Shot Chart Detail  0041500405             10     201939   Stephen Curry   \n",
       "\n",
       "      TEAM_ID              TEAM_NAME  PERIOD  MINUTES_REMAINING  \\\n",
       "0  1610612744  Golden State Warriors       1                 11   \n",
       "1  1610612739    Cleveland Cavaliers       1                 11   \n",
       "2  1610612744  Golden State Warriors       1                 10   \n",
       "3  1610612739    Cleveland Cavaliers       1                 10   \n",
       "4  1610612744  Golden State Warriors       1                 10   \n",
       "\n",
       "   SECONDS_REMAINING       ...                           ACTION_TYPE  \\\n",
       "0                 24       ...        Running Finger Roll Layup Shot   \n",
       "1                  8       ...                      Pullup Jump shot   \n",
       "2                 49       ...                      Pullup Jump shot   \n",
       "3                 36       ...              Turnaround Fadeaway shot   \n",
       "4                 25       ...                      Pullup Jump shot   \n",
       "\n",
       "        SHOT_TYPE    SHOT_ZONE_BASIC         SHOT_ZONE_AREA  SHOT_ZONE_RANGE  \\\n",
       "0  2PT Field Goal    Restricted Area              Center(C)  Less Than 8 ft.   \n",
       "1  3PT Field Goal  Above the Break 3              Center(C)          24+ ft.   \n",
       "2  3PT Field Goal      Left Corner 3           Left Side(L)          24+ ft.   \n",
       "3  2PT Field Goal          Mid-Range           Left Side(L)         8-16 ft.   \n",
       "4  3PT Field Goal  Above the Break 3  Right Side Center(RC)          24+ ft.   \n",
       "\n",
       "  SHOT_DISTANCE  LOC_X  LOC_Y  SHOT_ATTEMPTED_FLAG  SHOT_MADE_FLAG  \n",
       "0             2     -2     21                    1               1  \n",
       "1            25     -9    259                    1               1  \n",
       "2            22   -228     -6                    1               0  \n",
       "3            11   -112     31                    1               0  \n",
       "4            25    195    164                    1               1  \n",
       "\n",
       "[5 rows x 21 columns]"
      ]
     },
     "execution_count": 23,
     "metadata": {},
     "output_type": "execute_result"
    }
   ],
   "source": [
    "'''\n",
    "Inspect the top of the df_shots DataFrame\n",
    "'''\n",
    "df_shots.head()"
   ]
  },
  {
   "cell_type": "code",
   "execution_count": 24,
   "metadata": {
    "collapsed": false
   },
   "outputs": [
    {
     "data": {
      "text/plain": [
       "GRID_TYPE                           Shot Chart Detail\n",
       "GAME_ID                                    0041500405\n",
       "GAME_EVENT_ID                                       4\n",
       "PLAYER_ID                                        2738\n",
       "PLAYER_NAME                            Andre Iguodala\n",
       "TEAM_ID                                    1610612744\n",
       "TEAM_NAME                       Golden State Warriors\n",
       "PERIOD                                              1\n",
       "MINUTES_REMAINING                                  11\n",
       "SECONDS_REMAINING                                  24\n",
       "EVENT_TYPE                                  Made Shot\n",
       "ACTION_TYPE            Running Finger Roll Layup Shot\n",
       "SHOT_TYPE                              2PT Field Goal\n",
       "SHOT_ZONE_BASIC                       Restricted Area\n",
       "SHOT_ZONE_AREA                              Center(C)\n",
       "SHOT_ZONE_RANGE                       Less Than 8 ft.\n",
       "SHOT_DISTANCE                                       2\n",
       "LOC_X                                              -2\n",
       "LOC_Y                                              21\n",
       "SHOT_ATTEMPTED_FLAG                                 1\n",
       "SHOT_MADE_FLAG                                      1\n",
       "Name: 0, dtype: object"
      ]
     },
     "execution_count": 24,
     "metadata": {},
     "output_type": "execute_result"
    }
   ],
   "source": [
    "'''\n",
    "Using the iloc operator, grab the first row.\n",
    "iloc stands for integer location and is a verbose way of grabbing a particular row of a data frame\n",
    "by its integer location\n",
    "'''\n",
    "df_shots.iloc[0]"
   ]
  },
  {
   "cell_type": "markdown",
   "metadata": {},
   "source": [
    "## Missing Free Throws\n",
    "After inspecting all of the **ACTION_TYPE** in the df_shots DataFrame it seems that free throws are missing from our data. To find the free throws, we turn to the **playbyplayv2** endpoint"
   ]
  },
  {
   "cell_type": "code",
   "execution_count": 29,
   "metadata": {
    "collapsed": false
   },
   "outputs": [],
   "source": [
    "PLAY_BY_PLAY_URL = 'http://stats.nba.com/stats/playbyplayv2?EndPeriod=10&EndRange=55800&GameID={}'\\\n",
    "                    '&RangeType=2&Season=2015-16&SeasonType=Playoffs&StartPeriod=1&StartRange=0'.format(game_id);"
   ]
  },
  {
   "cell_type": "code",
   "execution_count": 33,
   "metadata": {
    "collapsed": false
   },
   "outputs": [],
   "source": [
    "# %system curl \"$PLAY_BY_PLAY_URL\""
   ]
  },
  {
   "cell_type": "code",
   "execution_count": 34,
   "metadata": {
    "collapsed": false
   },
   "outputs": [],
   "source": [
    "'''\n",
    "Retreive play by play data\n",
    "'''\n",
    "pbp_response = requests.get(PLAY_BY_PLAY_URL)\n",
    "pbp_data = pbp_response.json()"
   ]
  },
  {
   "cell_type": "code",
   "execution_count": 35,
   "metadata": {
    "collapsed": false
   },
   "outputs": [],
   "source": [
    "column_data = pbp_data['resultSets'][0]['rowSet']\n",
    "column_names = pbp_data['resultSets'][0]['headers']\n",
    "df_play_by_play = pd.DataFrame(column_data, columns=column_names)"
   ]
  },
  {
   "cell_type": "code",
   "execution_count": 36,
   "metadata": {
    "collapsed": false
   },
   "outputs": [
    {
     "data": {
      "text/html": [
       "<div>\n",
       "<table border=\"1\" class=\"dataframe\">\n",
       "  <thead>\n",
       "    <tr style=\"text-align: right;\">\n",
       "      <th></th>\n",
       "      <th>GAME_ID</th>\n",
       "      <th>EVENTNUM</th>\n",
       "      <th>EVENTMSGTYPE</th>\n",
       "      <th>EVENTMSGACTIONTYPE</th>\n",
       "      <th>PERIOD</th>\n",
       "      <th>WCTIMESTRING</th>\n",
       "      <th>PCTIMESTRING</th>\n",
       "      <th>HOMEDESCRIPTION</th>\n",
       "      <th>NEUTRALDESCRIPTION</th>\n",
       "      <th>VISITORDESCRIPTION</th>\n",
       "      <th>...</th>\n",
       "      <th>PLAYER2_TEAM_CITY</th>\n",
       "      <th>PLAYER2_TEAM_NICKNAME</th>\n",
       "      <th>PLAYER2_TEAM_ABBREVIATION</th>\n",
       "      <th>PERSON3TYPE</th>\n",
       "      <th>PLAYER3_ID</th>\n",
       "      <th>PLAYER3_NAME</th>\n",
       "      <th>PLAYER3_TEAM_ID</th>\n",
       "      <th>PLAYER3_TEAM_CITY</th>\n",
       "      <th>PLAYER3_TEAM_NICKNAME</th>\n",
       "      <th>PLAYER3_TEAM_ABBREVIATION</th>\n",
       "    </tr>\n",
       "  </thead>\n",
       "  <tbody>\n",
       "    <tr>\n",
       "      <th>0</th>\n",
       "      <td>0041500405</td>\n",
       "      <td>0</td>\n",
       "      <td>12</td>\n",
       "      <td>0</td>\n",
       "      <td>1</td>\n",
       "      <td>9:11 PM</td>\n",
       "      <td>12:00</td>\n",
       "      <td>None</td>\n",
       "      <td>None</td>\n",
       "      <td>None</td>\n",
       "      <td>...</td>\n",
       "      <td>None</td>\n",
       "      <td>None</td>\n",
       "      <td>None</td>\n",
       "      <td>0</td>\n",
       "      <td>0</td>\n",
       "      <td>None</td>\n",
       "      <td>NaN</td>\n",
       "      <td>None</td>\n",
       "      <td>None</td>\n",
       "      <td>None</td>\n",
       "    </tr>\n",
       "    <tr>\n",
       "      <th>1</th>\n",
       "      <td>0041500405</td>\n",
       "      <td>1</td>\n",
       "      <td>10</td>\n",
       "      <td>0</td>\n",
       "      <td>1</td>\n",
       "      <td>9:11 PM</td>\n",
       "      <td>12:00</td>\n",
       "      <td>Jump Ball Bogut vs. Thompson: Tip to Curry</td>\n",
       "      <td>None</td>\n",
       "      <td>None</td>\n",
       "      <td>...</td>\n",
       "      <td>Cleveland</td>\n",
       "      <td>Cavaliers</td>\n",
       "      <td>CLE</td>\n",
       "      <td>4</td>\n",
       "      <td>201939</td>\n",
       "      <td>Stephen Curry</td>\n",
       "      <td>1.610613e+09</td>\n",
       "      <td>Golden State</td>\n",
       "      <td>Warriors</td>\n",
       "      <td>GSW</td>\n",
       "    </tr>\n",
       "    <tr>\n",
       "      <th>2</th>\n",
       "      <td>0041500405</td>\n",
       "      <td>2</td>\n",
       "      <td>5</td>\n",
       "      <td>45</td>\n",
       "      <td>1</td>\n",
       "      <td>9:12 PM</td>\n",
       "      <td>11:44</td>\n",
       "      <td>Bogut Out of Bounds - Bad Pass Turnover Turnov...</td>\n",
       "      <td>None</td>\n",
       "      <td>None</td>\n",
       "      <td>...</td>\n",
       "      <td>None</td>\n",
       "      <td>None</td>\n",
       "      <td>None</td>\n",
       "      <td>1</td>\n",
       "      <td>0</td>\n",
       "      <td>None</td>\n",
       "      <td>NaN</td>\n",
       "      <td>None</td>\n",
       "      <td>None</td>\n",
       "      <td>None</td>\n",
       "    </tr>\n",
       "    <tr>\n",
       "      <th>3</th>\n",
       "      <td>0041500405</td>\n",
       "      <td>3</td>\n",
       "      <td>5</td>\n",
       "      <td>41</td>\n",
       "      <td>1</td>\n",
       "      <td>9:12 PM</td>\n",
       "      <td>11:30</td>\n",
       "      <td>Iguodala STEAL (1 STL)</td>\n",
       "      <td>None</td>\n",
       "      <td>James Poss Lost Ball Turnover (P1.T1)</td>\n",
       "      <td>...</td>\n",
       "      <td>Golden State</td>\n",
       "      <td>Warriors</td>\n",
       "      <td>GSW</td>\n",
       "      <td>0</td>\n",
       "      <td>0</td>\n",
       "      <td>None</td>\n",
       "      <td>NaN</td>\n",
       "      <td>None</td>\n",
       "      <td>None</td>\n",
       "      <td>None</td>\n",
       "    </tr>\n",
       "    <tr>\n",
       "      <th>4</th>\n",
       "      <td>0041500405</td>\n",
       "      <td>4</td>\n",
       "      <td>1</td>\n",
       "      <td>76</td>\n",
       "      <td>1</td>\n",
       "      <td>9:12 PM</td>\n",
       "      <td>11:24</td>\n",
       "      <td>Iguodala 2' Running Finger Roll Layup (2 PTS)</td>\n",
       "      <td>None</td>\n",
       "      <td>None</td>\n",
       "      <td>...</td>\n",
       "      <td>None</td>\n",
       "      <td>None</td>\n",
       "      <td>None</td>\n",
       "      <td>0</td>\n",
       "      <td>0</td>\n",
       "      <td>None</td>\n",
       "      <td>NaN</td>\n",
       "      <td>None</td>\n",
       "      <td>None</td>\n",
       "      <td>None</td>\n",
       "    </tr>\n",
       "  </tbody>\n",
       "</table>\n",
       "<p>5 rows × 33 columns</p>\n",
       "</div>"
      ],
      "text/plain": [
       "      GAME_ID  EVENTNUM  EVENTMSGTYPE  EVENTMSGACTIONTYPE  PERIOD  \\\n",
       "0  0041500405         0            12                   0       1   \n",
       "1  0041500405         1            10                   0       1   \n",
       "2  0041500405         2             5                  45       1   \n",
       "3  0041500405         3             5                  41       1   \n",
       "4  0041500405         4             1                  76       1   \n",
       "\n",
       "  WCTIMESTRING PCTIMESTRING  \\\n",
       "0      9:11 PM        12:00   \n",
       "1      9:11 PM        12:00   \n",
       "2      9:12 PM        11:44   \n",
       "3      9:12 PM        11:30   \n",
       "4      9:12 PM        11:24   \n",
       "\n",
       "                                     HOMEDESCRIPTION NEUTRALDESCRIPTION  \\\n",
       "0                                               None               None   \n",
       "1         Jump Ball Bogut vs. Thompson: Tip to Curry               None   \n",
       "2  Bogut Out of Bounds - Bad Pass Turnover Turnov...               None   \n",
       "3                             Iguodala STEAL (1 STL)               None   \n",
       "4      Iguodala 2' Running Finger Roll Layup (2 PTS)               None   \n",
       "\n",
       "                      VISITORDESCRIPTION            ...              \\\n",
       "0                                   None            ...               \n",
       "1                                   None            ...               \n",
       "2                                   None            ...               \n",
       "3  James Poss Lost Ball Turnover (P1.T1)            ...               \n",
       "4                                   None            ...               \n",
       "\n",
       "  PLAYER2_TEAM_CITY PLAYER2_TEAM_NICKNAME  PLAYER2_TEAM_ABBREVIATION  \\\n",
       "0              None                  None                       None   \n",
       "1         Cleveland             Cavaliers                        CLE   \n",
       "2              None                  None                       None   \n",
       "3      Golden State              Warriors                        GSW   \n",
       "4              None                  None                       None   \n",
       "\n",
       "   PERSON3TYPE PLAYER3_ID   PLAYER3_NAME PLAYER3_TEAM_ID PLAYER3_TEAM_CITY  \\\n",
       "0            0          0           None             NaN              None   \n",
       "1            4     201939  Stephen Curry    1.610613e+09      Golden State   \n",
       "2            1          0           None             NaN              None   \n",
       "3            0          0           None             NaN              None   \n",
       "4            0          0           None             NaN              None   \n",
       "\n",
       "  PLAYER3_TEAM_NICKNAME  PLAYER3_TEAM_ABBREVIATION  \n",
       "0                  None                       None  \n",
       "1              Warriors                        GSW  \n",
       "2                  None                       None  \n",
       "3                  None                       None  \n",
       "4                  None                       None  \n",
       "\n",
       "[5 rows x 33 columns]"
      ]
     },
     "execution_count": 36,
     "metadata": {},
     "output_type": "execute_result"
    }
   ],
   "source": [
    "df_play_by_play.head()"
   ]
  },
  {
   "cell_type": "code",
   "execution_count": 37,
   "metadata": {
    "collapsed": false
   },
   "outputs": [
    {
     "data": {
      "text/plain": [
       "GAME_ID                                                 0041500405\n",
       "EVENTNUM                                                         3\n",
       "EVENTMSGTYPE                                                     5\n",
       "EVENTMSGACTIONTYPE                                              41\n",
       "PERIOD                                                           1\n",
       "WCTIMESTRING                                               9:12 PM\n",
       "PCTIMESTRING                                                 11:30\n",
       "HOMEDESCRIPTION                             Iguodala STEAL (1 STL)\n",
       "NEUTRALDESCRIPTION                                            None\n",
       "VISITORDESCRIPTION           James Poss Lost Ball Turnover (P1.T1)\n",
       "SCORE                                                         None\n",
       "SCOREMARGIN                                                   None\n",
       "PERSON1TYPE                                                      5\n",
       "PLAYER1_ID                                                    2544\n",
       "PLAYER1_NAME                                          LeBron James\n",
       "PLAYER1_TEAM_ID                                        1.61061e+09\n",
       "PLAYER1_TEAM_CITY                                        Cleveland\n",
       "PLAYER1_TEAM_NICKNAME                                    Cavaliers\n",
       "PLAYER1_TEAM_ABBREVIATION                                      CLE\n",
       "PERSON2TYPE                                                      4\n",
       "PLAYER2_ID                                                    2738\n",
       "PLAYER2_NAME                                        Andre Iguodala\n",
       "PLAYER2_TEAM_ID                                        1.61061e+09\n",
       "PLAYER2_TEAM_CITY                                     Golden State\n",
       "PLAYER2_TEAM_NICKNAME                                     Warriors\n",
       "PLAYER2_TEAM_ABBREVIATION                                      GSW\n",
       "PERSON3TYPE                                                      0\n",
       "PLAYER3_ID                                                       0\n",
       "PLAYER3_NAME                                                  None\n",
       "PLAYER3_TEAM_ID                                                NaN\n",
       "PLAYER3_TEAM_CITY                                             None\n",
       "PLAYER3_TEAM_NICKNAME                                         None\n",
       "PLAYER3_TEAM_ABBREVIATION                                     None\n",
       "Name: 3, dtype: object"
      ]
     },
     "execution_count": 37,
     "metadata": {},
     "output_type": "execute_result"
    }
   ],
   "source": [
    "'''\n",
    "Take a look at one row\n",
    "'''\n",
    "df_play_by_play.iloc[3]"
   ]
  },
  {
   "cell_type": "code",
   "execution_count": 38,
   "metadata": {
    "collapsed": false
   },
   "outputs": [
    {
     "data": {
      "text/plain": [
       "4     111\n",
       "2      95\n",
       "1      76\n",
       "8      59\n",
       "3      49\n",
       "6      43\n",
       "5      33\n",
       "9      14\n",
       "18      5\n",
       "13      4\n",
       "12      4\n",
       "10      3\n",
       "7       2\n",
       "Name: EVENTMSGTYPE, dtype: int64"
      ]
     },
     "execution_count": 38,
     "metadata": {},
     "output_type": "execute_result"
    }
   ],
   "source": [
    "'''\n",
    "EVENTMSGTYPE looks like it corresponds with the type of play. \n",
    "After some investigating (not show here), it appears that event type 3 is used only for free throws\n",
    "'''\n",
    "df_play_by_play['EVENTMSGTYPE'].value_counts()"
   ]
  },
  {
   "cell_type": "code",
   "execution_count": 39,
   "metadata": {
    "collapsed": true
   },
   "outputs": [],
   "source": [
    "'''\n",
    "Create a DataFrame only for free throws.\n",
    "Use boolean selection to get only event type 3\n",
    "'''\n",
    "df_ft_only = df_play_by_play[df_play_by_play['EVENTMSGTYPE'] == 3]"
   ]
  },
  {
   "cell_type": "markdown",
   "metadata": {},
   "source": [
    "## Converting the free throw DataFrame to match the shot DataFrame\n",
    "Since the **playbyplayv2** endpoint returns completely different data than the **shotchartdetail** endpoint we must create from scratch a new DataFrame for the free throws that mirrors exactly the **df_shots** DataFrame"
   ]
  },
  {
   "cell_type": "code",
   "execution_count": 40,
   "metadata": {
    "collapsed": false
   },
   "outputs": [
    {
     "data": {
      "text/plain": [
       "GRID_TYPE                           Shot Chart Detail\n",
       "GAME_ID                                    0041500405\n",
       "GAME_EVENT_ID                                       4\n",
       "PLAYER_ID                                        2738\n",
       "PLAYER_NAME                            Andre Iguodala\n",
       "TEAM_ID                                    1610612744\n",
       "TEAM_NAME                       Golden State Warriors\n",
       "PERIOD                                              1\n",
       "MINUTES_REMAINING                                  11\n",
       "SECONDS_REMAINING                                  24\n",
       "EVENT_TYPE                                  Made Shot\n",
       "ACTION_TYPE            Running Finger Roll Layup Shot\n",
       "SHOT_TYPE                              2PT Field Goal\n",
       "SHOT_ZONE_BASIC                       Restricted Area\n",
       "SHOT_ZONE_AREA                              Center(C)\n",
       "SHOT_ZONE_RANGE                       Less Than 8 ft.\n",
       "SHOT_DISTANCE                                       2\n",
       "LOC_X                                              -2\n",
       "LOC_Y                                              21\n",
       "SHOT_ATTEMPTED_FLAG                                 1\n",
       "SHOT_MADE_FLAG                                      1\n",
       "Name: 0, dtype: object"
      ]
     },
     "execution_count": 40,
     "metadata": {},
     "output_type": "execute_result"
    }
   ],
   "source": [
    "'''\n",
    "Use a single row of df_shots as a guide to creating the new DataFrame for free throws\n",
    "'''\n",
    "df_shots.iloc[0]"
   ]
  },
  {
   "cell_type": "code",
   "execution_count": 41,
   "metadata": {
    "collapsed": false
   },
   "outputs": [],
   "source": [
    "'''\n",
    "Start with a dictionary that has the same keys (column names) as df_shots\n",
    "Then loop through the free throw DataFrame to find the corresponding column that aligns\n",
    "with df_shots\n",
    "'''\n",
    "ft_new_dict = {val:[] for val in df_shots.iloc[0].index.values}\n",
    "for idx, row in df_ft_only.iterrows():\n",
    "    ft_new_dict['GAME_ID'].append(row['GAME_ID'])\n",
    "    ft_new_dict['GRID_TYPE'].append('Shot Chart Detail')\n",
    "    ft_new_dict['GAME_EVENT_ID'].append(-1)\n",
    "    ft_new_dict['PLAYER_NAME'].append(row['PLAYER1_NAME'])\n",
    "    ft_new_dict['PLAYER_ID'].append(row['PLAYER1_ID'])\n",
    "    ft_new_dict['TEAM_ID'].append(int(row['PLAYER1_TEAM_ID']))\n",
    "    ft_new_dict['TEAM_NAME'].append(row['PLAYER1_TEAM_CITY'] + ' ' + row['PLAYER1_TEAM_NICKNAME'])\n",
    "    ft_new_dict['PERIOD'].append(row['PERIOD'])\n",
    "    min_remaining, sec_remaining = row['PCTIMESTRING'].split(':')\n",
    "    ft_new_dict['MINUTES_REMAINING'].append(int(min_remaining))\n",
    "    ft_new_dict['SECONDS_REMAINING'].append(int(sec_remaining))\n",
    "    is_miss = 'MISS' in str(row['HOMEDESCRIPTION']) + str(row['VISITORDESCRIPTION'])\n",
    "    ft_new_dict['EVENT_TYPE'].append('Missed Shot' if is_miss else 'Made Shot')\n",
    "    ft_new_dict['ACTION_TYPE'].append('Free Throw')\n",
    "    ft_new_dict['SHOT_TYPE'].append('Free Throw')\n",
    "    ft_new_dict['SHOT_ZONE_BASIC'].append('Free Throw')\n",
    "    ft_new_dict['SHOT_ZONE_AREA'].append('Free Throw')\n",
    "    ft_new_dict['SHOT_ZONE_RANGE'].append('15 ft.')\n",
    "    ft_new_dict['SHOT_DISTANCE'].append(15)\n",
    "    ft_new_dict['LOC_X'].append(0)\n",
    "    ft_new_dict['LOC_Y'].append(150)\n",
    "    ft_new_dict['SHOT_ATTEMPTED_FLAG'].append(1)\n",
    "    ft_new_dict['SHOT_MADE_FLAG'].append(0 if is_miss else 1)\n",
    "\n",
    "'''\n",
    "Finally, create the new data frame for free throws\n",
    "'''\n",
    "df_ft_final = pd.DataFrame(ft_new_dict)"
   ]
  },
  {
   "cell_type": "code",
   "execution_count": 42,
   "metadata": {
    "collapsed": false
   },
   "outputs": [],
   "source": [
    "'''\n",
    "Combine the two data frames into one\n",
    "'''\n",
    "df_all = df_shots.append(df_ft_final, ignore_index=True)"
   ]
  },
  {
   "cell_type": "code",
   "execution_count": 43,
   "metadata": {
    "collapsed": true
   },
   "outputs": [],
   "source": [
    "'''\n",
    "Add some columns for points and possible points\n",
    "'''\n",
    "df_all['POINTS_POSSIBLE'] = df_all['SHOT_TYPE'].map(lambda x: 1 if x[0] == 'F' else int(x[0]))\n",
    "df_all['POINTS'] = df_all['POINTS_POSSIBLE'] * df_all['SHOT_MADE_FLAG']"
   ]
  },
  {
   "cell_type": "markdown",
   "metadata": {},
   "source": [
    "## Does the data make sense\n",
    "Lets do a sanity check, and calculate all the points that were scored in the game"
   ]
  },
  {
   "cell_type": "code",
   "execution_count": 44,
   "metadata": {
    "collapsed": false
   },
   "outputs": [
    {
     "data": {
      "text/html": [
       "<div>\n",
       "<table border=\"1\" class=\"dataframe\">\n",
       "  <thead>\n",
       "    <tr style=\"text-align: right;\">\n",
       "      <th></th>\n",
       "      <th>TEAM_NAME</th>\n",
       "      <th>SHOT_TYPE</th>\n",
       "      <th>SHOT_MADE_FLAG</th>\n",
       "      <th>SHOT_ATTEMPTED_FLAG</th>\n",
       "      <th>POINTS</th>\n",
       "    </tr>\n",
       "  </thead>\n",
       "  <tbody>\n",
       "    <tr>\n",
       "      <th>0</th>\n",
       "      <td>Cleveland Cavaliers</td>\n",
       "      <td>2PT Field Goal</td>\n",
       "      <td>34</td>\n",
       "      <td>59</td>\n",
       "      <td>68</td>\n",
       "    </tr>\n",
       "    <tr>\n",
       "      <th>1</th>\n",
       "      <td>Cleveland Cavaliers</td>\n",
       "      <td>3PT Field Goal</td>\n",
       "      <td>10</td>\n",
       "      <td>24</td>\n",
       "      <td>30</td>\n",
       "    </tr>\n",
       "    <tr>\n",
       "      <th>2</th>\n",
       "      <td>Cleveland Cavaliers</td>\n",
       "      <td>Free Throw</td>\n",
       "      <td>14</td>\n",
       "      <td>23</td>\n",
       "      <td>14</td>\n",
       "    </tr>\n",
       "    <tr>\n",
       "      <th>3</th>\n",
       "      <td>Golden State Warriors</td>\n",
       "      <td>2PT Field Goal</td>\n",
       "      <td>18</td>\n",
       "      <td>45</td>\n",
       "      <td>36</td>\n",
       "    </tr>\n",
       "    <tr>\n",
       "      <th>4</th>\n",
       "      <td>Golden State Warriors</td>\n",
       "      <td>3PT Field Goal</td>\n",
       "      <td>14</td>\n",
       "      <td>43</td>\n",
       "      <td>42</td>\n",
       "    </tr>\n",
       "    <tr>\n",
       "      <th>5</th>\n",
       "      <td>Golden State Warriors</td>\n",
       "      <td>Free Throw</td>\n",
       "      <td>19</td>\n",
       "      <td>26</td>\n",
       "      <td>19</td>\n",
       "    </tr>\n",
       "  </tbody>\n",
       "</table>\n",
       "</div>"
      ],
      "text/plain": [
       "               TEAM_NAME       SHOT_TYPE  SHOT_MADE_FLAG  SHOT_ATTEMPTED_FLAG  \\\n",
       "0    Cleveland Cavaliers  2PT Field Goal              34                   59   \n",
       "1    Cleveland Cavaliers  3PT Field Goal              10                   24   \n",
       "2    Cleveland Cavaliers      Free Throw              14                   23   \n",
       "3  Golden State Warriors  2PT Field Goal              18                   45   \n",
       "4  Golden State Warriors  3PT Field Goal              14                   43   \n",
       "5  Golden State Warriors      Free Throw              19                   26   \n",
       "\n",
       "   POINTS  \n",
       "0      68  \n",
       "1      30  \n",
       "2      14  \n",
       "3      36  \n",
       "4      42  \n",
       "5      19  "
      ]
     },
     "execution_count": 44,
     "metadata": {},
     "output_type": "execute_result"
    }
   ],
   "source": [
    "'''\n",
    "Create a new DataFrame that only has the points\n",
    "'''\n",
    "df_points = df_all.groupby(['TEAM_NAME', 'SHOT_TYPE'])['SHOT_MADE_FLAG', 'SHOT_ATTEMPTED_FLAG', 'POINTS'].agg('sum').reset_index()\n",
    "df_points"
   ]
  },
  {
   "cell_type": "code",
   "execution_count": 45,
   "metadata": {
    "collapsed": false
   },
   "outputs": [
    {
     "data": {
      "text/plain": [
       "TEAM_NAME\n",
       "Cleveland Cavaliers      112\n",
       "Golden State Warriors     97\n",
       "Name: POINTS, dtype: int64"
      ]
     },
     "execution_count": 45,
     "metadata": {},
     "output_type": "execute_result"
    }
   ],
   "source": [
    "'''\n",
    "The final score matches the acutal outcome so it looks like we are on track\n",
    "'''\n",
    "df_points.groupby('TEAM_NAME')['POINTS'].sum()"
   ]
  },
  {
   "cell_type": "markdown",
   "metadata": {},
   "source": [
    "## Visualization\n",
    "Finally, lets work on visualizing our data. After some initial inspecting it is clear that columns LOC_X and LOC_Y contain the point on the court where the shot was taken. Let's visualize all the shots"
   ]
  },
  {
   "cell_type": "code",
   "execution_count": 46,
   "metadata": {
    "collapsed": true
   },
   "outputs": [],
   "source": [
    "'''\n",
    "Bring in matplotlib's plotting module pyplot \n",
    "Very importantly use the ipython magic command %matplotlib inline to insure plots are created in the notebook itself\n",
    "and not behind the scenes\n",
    "'''\n",
    "import matplotlib.pyplot as plt\n",
    "%matplotlib inline"
   ]
  },
  {
   "cell_type": "code",
   "execution_count": 47,
   "metadata": {
    "collapsed": false
   },
   "outputs": [
    {
     "data": {
      "image/png": "[encoded data removed]",
      "text/plain": [
       "<matplotlib.figure.Figure at 0x117dfdc50>"
      ]
     },
     "metadata": {},
     "output_type": "display_data"
    }
   ],
   "source": [
    "'''\n",
    "A crude look at all the shots.\n",
    "pandas actually has an api for matplotlib without explicity calling it yourself.\n",
    "Access the API by using .plot after your DataFrame object and the .<your plot type> to use the plot you want\n",
    "Use tab completion to inspect what type of plots are possible\n",
    "'''\n",
    "df_all.plot.scatter('LOC_X', 'LOC_Y');"
   ]
  },
  {
   "cell_type": "code",
   "execution_count": 48,
   "metadata": {
    "collapsed": false
   },
   "outputs": [
    {
     "data": {
      "image/png": "[encoded data removed]",
      "text/plain": [
       "<matplotlib.figure.Figure at 0x11a212f60>"
      ]
     },
     "metadata": {},
     "output_type": "display_data"
    }
   ],
   "source": [
    "'''\n",
    "Now look at just the Cleveland Cavaliers Shots\n",
    "'''\n",
    "team1, team2 = df_all['TEAM_NAME'].unique()\n",
    "df_all[df_all['TEAM_NAME'] == team1].plot.scatter('LOC_X', 'LOC_Y', title=\"Only \" + team1);"
   ]
  },
  {
   "cell_type": "code",
   "execution_count": 49,
   "metadata": {
    "collapsed": false
   },
   "outputs": [
    {
     "data": {
      "image/png": "[encoded data removed]",
      "text/plain": [
       "<matplotlib.figure.Figure at 0x11a7e0cc0>"
      ]
     },
     "metadata": {},
     "output_type": "display_data"
    }
   ],
   "source": [
    "'''\n",
    "The plots look fine but maybe it would be better if we reversed the X and Y positions so that we can view the shots\n",
    "how we normally would from TV\n",
    "'''\n",
    "df_all[df_all['TEAM_NAME'] == team2].plot.scatter('LOC_Y', 'LOC_X', title= \"Horizontal \" + team2);"
   ]
  },
  {
   "cell_type": "markdown",
   "metadata": {},
   "source": [
    "## Finding the home team\n",
    "Finding the home team is not obvious. A hacky solution is prsented below. We simply use as home team the more frequent time the 'HOMEDESCRIPTION' column is used in the play by play DataFrame."
   ]
  },
  {
   "cell_type": "code",
   "execution_count": 50,
   "metadata": {
    "collapsed": false
   },
   "outputs": [],
   "source": [
    "'''\n",
    "This is hacky but works for finding both home and visiting team.\n",
    "\n",
    "The 'apply' method in DataFrames is used to iterate over each row/column and apply a function with the\n",
    "values of that row/column.\n",
    "\n",
    "Here, the apply function is used to return True if the HOMEDESCRIPTION column is not null and \n",
    "the VISITORDESCRIPTION is null. This result is used to boolean slice the DataFrame and then find the most\n",
    "frequent team (found when concatenating PLAYER1_TEAM_CITY and PLAYER1_TEAM_NICKNAME).\n",
    "\n",
    "This should always yield the home team. Please let me know if you find a better method\n",
    "'''\n",
    "home_team_df = df_play_by_play[df_play_by_play.apply(lambda row: row['HOMEDESCRIPTION'] is not None \n",
    "                              and row['VISITORDESCRIPTION'] is None, axis=1)][['PLAYER1_TEAM_CITY', 'PLAYER1_TEAM_NICKNAME']]\n",
    "\n",
    "home_team_ser = home_team_df['PLAYER1_TEAM_CITY'] + ' ' + home_team_df['PLAYER1_TEAM_NICKNAME']\n",
    "home_team = home_team_ser.value_counts().index.values[0]"
   ]
  },
  {
   "cell_type": "code",
   "execution_count": 51,
   "metadata": {
    "collapsed": true
   },
   "outputs": [],
   "source": [
    "'''\n",
    "Create indicator (1/0) column for home team and get visiting team name\n",
    "'''\n",
    "df_all['HOME_TEAM'] = (df_all['TEAM_NAME'] == home_team) * 1\n",
    "visitor_team = df_all[df_all['HOME_TEAM'] == 0]['TEAM_NAME'].values[0]"
   ]
  },
  {
   "cell_type": "markdown",
   "metadata": {},
   "source": [
    "## Adding the description of the event\n",
    "In the play by play DataFrame, there is a column that gives more detail on the outcome of the event. This description might be useful to display during the animation to give the user information on exactly what is happening. Since, both teams can be involved in the event there are both **HOMEDESCRIPTION** and **VISITORDESCRIPTION** columns. We first shrink the play by play DataFrame to only **EVENTNUM** and both descsriptions. We then merge (similar to a SQL join) this table to our full table, **df_all** and finally only use the description that corresponds to the team attempting to score."
   ]
  },
  {
   "cell_type": "code",
   "execution_count": 52,
   "metadata": {
    "collapsed": false
   },
   "outputs": [],
   "source": [
    "'''\n",
    "Tack on a column for the description.\n",
    "'''\n",
    "df_description = df_play_by_play[['EVENTNUM', 'HOMEDESCRIPTION', 'VISITORDESCRIPTION']]\n",
    "df_all = pd.merge(df_all, df_description, how='left', left_on='GAME_EVENT_ID', right_on='EVENTNUM')\n",
    "df_all['DESCRIPTION'] = df_all.apply(lambda row: row['HOMEDESCRIPTION'] if row['HOME_TEAM'] else \n",
    "                                                    row['VISITORDESCRIPTION'], axis=1)"
   ]
  },
  {
   "cell_type": "markdown",
   "metadata": {},
   "source": [
    "## Missing Description for Free Throws\n",
    "Since free throws were retreived using the play by play endpoint, there was no corresponding description. We follow convention (from the df_shots DataFrame) and manually create a description"
   ]
  },
  {
   "cell_type": "code",
   "execution_count": 53,
   "metadata": {
    "collapsed": false
   },
   "outputs": [],
   "source": [
    "'''\n",
    "Fill the missing description values with a simple manually created description\n",
    "'''\n",
    "df_all['DESCRIPTION'] = df_all['DESCRIPTION'].fillna(df_all.apply(lambda row: row['PLAYER_NAME'] + ' Free Throw' \n",
    "                                          if row['SHOT_MADE_FLAG'] else 'MISS ' + row['PLAYER_NAME'] + ' Free Throw', axis=1))"
   ]
  },
  {
   "cell_type": "code",
   "execution_count": 54,
   "metadata": {
    "collapsed": false
   },
   "outputs": [],
   "source": [
    "'''\n",
    "Remove superfluous columns\n",
    "'''\n",
    "df_all = df_all.drop(['EVENTNUM', 'VISITORDESCRIPTION', 'HOMEDESCRIPTION'], axis=1)"
   ]
  },
  {
   "cell_type": "markdown",
   "metadata": {},
   "source": [
    "## Examining Shot Locations\n",
    "Looking at the range of **LOC_X** and **LOC_Y** columns it seems apparent that the dimensions are feet multiplied by 10 since a basketball court is 94ft long by 50ft wide. \n",
    "\n",
    "Since, there are negative values for **LOC_X** some more investigation yields that the actual basket is located at **LOC_X** equal to 0. The actual basket is 4 feet from the edge of the court (-40 for **LOC_X**). This means the max value for **LOC_X** would be 900.\n",
    "\n",
    "## Transforming Court Dimensions\n",
    "The same values for **LOC_X** and **LOC_Y** are used regardless of the team. To animate a game, we need to translate the shots of one team over to the other side of the court."
   ]
  },
  {
   "cell_type": "code",
   "execution_count": 55,
   "metadata": {
    "collapsed": false
   },
   "outputs": [],
   "source": [
    "'''\n",
    "Switch X and Y coordinates so that the court matches what you would see on TV\n",
    "Move one team's shots over to the other side of the court\n",
    "Add 40 to each LOC_X_NEW to remove negative values\n",
    "'''\n",
    "df_all['LOC_X_NEW'] = df_all.apply(lambda x: x['LOC_Y'] if x['HOME_TEAM'] == 1 else 860 - x['LOC_Y'], axis=1) + 40\n",
    "df_all['LOC_Y_NEW'] = df_all['LOC_X']"
   ]
  },
  {
   "cell_type": "markdown",
   "metadata": {},
   "source": [
    "## Order each shot by time left in game\n",
    "Since free throws were not originally in the data, we need to sort the df_all DataFrame by number of seconds remaining in the game."
   ]
  },
  {
   "cell_type": "code",
   "execution_count": 56,
   "metadata": {
    "collapsed": false
   },
   "outputs": [],
   "source": [
    "'''\n",
    "Create a new column that contains the number of seconds elapsed in game\n",
    "'''\n",
    "df_all['SEQUENTIAL_SECONDS'] = 720 * (df_all['PERIOD'] - 1) + 720 - (df_all['MINUTES_REMAINING'] * 60 + df_all['SECONDS_REMAINING'])\n",
    "df_all.sort_values('SEQUENTIAL_SECONDS', inplace=True)\n",
    "df_all.reset_index(drop=True, inplace=True)"
   ]
  },
  {
   "cell_type": "code",
   "execution_count": 57,
   "metadata": {
    "collapsed": false
   },
   "outputs": [
    {
     "data": {
      "text/plain": [
       "ACTION_TYPE                             Free Throw\n",
       "EVENT_TYPE                               Made Shot\n",
       "GAME_EVENT_ID                                   -1\n",
       "GAME_ID                                 0041500405\n",
       "GRID_TYPE                        Shot Chart Detail\n",
       "LOC_X                                            0\n",
       "LOC_Y                                          150\n",
       "MINUTES_REMAINING                                1\n",
       "PERIOD                                           4\n",
       "PLAYER_ID                                     2760\n",
       "PLAYER_NAME                       Anderson Varejao\n",
       "SECONDS_REMAINING                                1\n",
       "SHOT_ATTEMPTED_FLAG                              1\n",
       "SHOT_DISTANCE                                   15\n",
       "SHOT_MADE_FLAG                                   1\n",
       "SHOT_TYPE                               Free Throw\n",
       "SHOT_ZONE_AREA                          Free Throw\n",
       "SHOT_ZONE_BASIC                         Free Throw\n",
       "SHOT_ZONE_RANGE                             15 ft.\n",
       "TEAM_ID                                 1610612744\n",
       "TEAM_NAME                    Golden State Warriors\n",
       "POINTS_POSSIBLE                                  1\n",
       "POINTS                                           1\n",
       "HOME_TEAM                                        1\n",
       "DESCRIPTION            Anderson Varejao Free Throw\n",
       "LOC_X_NEW                                      190\n",
       "LOC_Y_NEW                                        0\n",
       "SEQUENTIAL_SECONDS                            2819\n",
       "Name: 219, dtype: object"
      ]
     },
     "execution_count": 57,
     "metadata": {},
     "output_type": "execute_result"
    }
   ],
   "source": [
    "'''\n",
    "Take a peak at the last record\n",
    "'''\n",
    "df_all.iloc[-1]"
   ]
  },
  {
   "cell_type": "markdown",
   "metadata": {},
   "source": [
    "## Build Static Visualization\n",
    "We now have enough information to recreate the image at the very top of the page provided by basketballreference.com. We will first build the court using lines, arcs and circles from matplotlib and then place some colored scattered circular mark to indicate both the team and whether the shot was made. We can also remove the ugliness of the default matplotlib settings and import the **seaborn** package which among other things, instantly beautifies your plot."
   ]
  },
  {
   "cell_type": "code",
   "execution_count": 58,
   "metadata": {
    "collapsed": true
   },
   "outputs": [],
   "source": [
    "from matplotlib.patches import Arc, Circle\n",
    "import seaborn\n",
    "import numpy as np"
   ]
  },
  {
   "cell_type": "code",
   "execution_count": 59,
   "metadata": {
    "collapsed": false
   },
   "outputs": [],
   "source": [
    "'''\n",
    "Add supplementary columns for color of shot and whether to have scatterplot circle filled (for a maker) \n",
    "or hollow (for a miss)\n",
    "'''\n",
    "df_all['FACECOLOR'] = df_all.apply(lambda row: 'none' if row['SHOT_MADE_FLAG'] == 0 else 'r' if row['HOME_TEAM'] else 'g', axis=1)\n",
    "df_all['EDGECOLOR'] = df_all['HOME_TEAM'].map(lambda x: 'r' if x else 'g')"
   ]
  },
  {
   "cell_type": "markdown",
   "metadata": {},
   "source": [
    "## Create the court\n",
    "A great tutorial on creating an NBA court with shots [can be viewed here](http://savvastjortjoglou.com/nba-shot-sharts.html)"
   ]
  },
  {
   "cell_type": "code",
   "execution_count": 60,
   "metadata": {
    "collapsed": false
   },
   "outputs": [
    {
     "data": {
      "image/png": "[encoded data removed]",
      "text/plain": [
       "<matplotlib.figure.Figure at 0x11a884a90>"
      ]
     },
     "metadata": {},
     "output_type": "display_data"
    }
   ],
   "source": [
    "'''\n",
    "There are a number of ways to begin creating a plot. In matplotlib, the outer frame of the plot is called the figure\n",
    "and usually abbreviated fig. An 'axes' is the actual plot inside a figure that is being created. There can be multiple\n",
    "axes within a single figure, though in this example there will be only one\n",
    "'''\n",
    "# Create a single figure with one axes. Give dimensions to figure\n",
    "fig, ax = plt.subplots(figsize=(16,8))\n",
    "\n",
    "# Draw the borders of the court\n",
    "ax.set_xlim(-20, 960)\n",
    "ax.vlines([0, 940], -250, 250)\n",
    "ax.hlines([-250, 250], 0, 940)\n",
    "ax.hlines([-80, -80, 80, 80], [0, 750] * 2, [190, 940] * 2)\n",
    "ax.hlines([-60, -60, 60, 60], [0, 750] * 2, [190, 940] * 2)\n",
    "ax.vlines([190, 750], -80, 80)\n",
    "ax.vlines(470, -250, 250)\n",
    "ax.vlines([40, 900], -30, 30)\n",
    "\n",
    "# Add the three point arc, free throw circle, midcourt circle and backboard and rim\n",
    "ax.add_patch(Arc((190, 0), 120, 120, theta1=-90, theta2=90, linewidth=2))\n",
    "ax.add_patch(Arc((190, 0), 120, 120, theta1=90, theta2=-90, linewidth=2, linestyle='dashed'))\n",
    "ax.add_patch(Arc((750, 0), 120, 120, theta1=90, theta2=-90, linewidth=2))\n",
    "ax.add_patch(Arc((750, 0), 120, 120, theta1=-90, theta2=90, linewidth=2, linestyle='dashed'))\n",
    "ax.hlines([-220, -220, 220, 220], [0, 800] * 2, [140, 940] * 2)\n",
    "ax.add_patch(Arc((47.5, 0), 475, 475, theta1=-67.5, theta2=67.5, linewidth=2))\n",
    "ax.add_patch(Arc((892.5, 0), 475, 475, theta1=112.5, theta2=-112.5, linewidth=2))\n",
    "ax.add_patch(Arc((47.5, 0), 15, 15, theta1=0, theta2=360, linewidth=2))\n",
    "ax.add_patch(Arc((892.5, 0), 15, 15, theta1=0, theta2=360, linewidth=2))\n",
    "ax.add_patch(Circle((470, 0), 60, facecolor='none', lw=2))\n",
    "\n",
    "# Finally add the shots\n",
    "ax.scatter('LOC_X_NEW', 'LOC_Y_NEW', marker='o', s=120, facecolors='FACECOLOR', edgecolors='EDGECOLOR', lw=2, data=df_all);"
   ]
  },
  {
   "cell_type": "markdown",
   "metadata": {},
   "source": [
    "## Animation\n",
    "For animation to occur in matplotlib in the iPython notebook two things must occur. First, the magic command %matplotlib notebook must be run. This changes matplotlib's backend to **nbagg** which allows for interactive plots. Second, the **FuncAnimation** function must be imported which utilizes a user-defined function to control the objects in the plot."
   ]
  },
  {
   "cell_type": "code",
   "execution_count": 61,
   "metadata": {
    "collapsed": false
   },
   "outputs": [],
   "source": [
    "'''\n",
    "Allow notebook to have interactive plots\n",
    "'''\n",
    "%matplotlib notebook\n",
    "from matplotlib.animation import FuncAnimation\n",
    "from matplotlib.animation import writers"
   ]
  },
  {
   "cell_type": "code",
   "execution_count": 157,
   "metadata": {
    "collapsed": false
   },
   "outputs": [
    {
     "data": {
      "application/javascript": [
       "/* Put everything inside the global mpl namespace */\n",
       "window.mpl = {};\n",
       "\n",
       "mpl.get_websocket_type = function() {\n",
       "    if (typeof(WebSocket) !== 'undefined') {\n",
       "        return WebSocket;\n",
       "    } else if (typeof(MozWebSocket) !== 'undefined') {\n",
       "        return MozWebSocket;\n",
       "    } else {\n",
       "        alert('Your browser does not have WebSocket support.' +\n",
       "              'Please try Chrome, Safari or Firefox ≥ 6. ' +\n",
       "              'Firefox 4 and 5 are also supported but you ' +\n",
       "              'have to enable WebSockets in about:config.');\n",
       "    };\n",
       "}\n",
       "\n",
       "mpl.figure = function(figure_id, websocket, ondownload, parent_element) {\n",
       "    this.id = figure_id;\n",
       "\n",
       "    this.ws = websocket;\n",
       "\n",
       "    this.supports_binary = (this.ws.binaryType != undefined);\n",
       "\n",
       "    if (!this.supports_binary) {\n",
       "        var warnings = document.getElementById(\"mpl-warnings\");\n",
       "        if (warnings) {\n",
       "            warnings.style.display = 'block';\n",
       "            warnings.textContent = (\n",
       "                \"This browser does not support binary websocket messages. \" +\n",
       "                    \"Performance may be slow.\");\n",
       "        }\n",
       "    }\n",
       "\n",
       "    this.imageObj = new Image();\n",
       "\n",
       "    this.context = undefined;\n",
       "    this.message = undefined;\n",
       "    this.canvas = undefined;\n",
       "    this.rubberband_canvas = undefined;\n",
       "    this.rubberband_context = undefined;\n",
       "    this.format_dropdown = undefined;\n",
       "\n",
       "    this.image_mode = 'full';\n",
       "\n",
       "    this.root = $('<div/>');\n",
       "    this._root_extra_style(this.root)\n",
       "    this.root.attr('style', 'display: inline-block');\n",
       "\n",
       "    $(parent_element).append(this.root);\n",
       "\n",
       "    this._init_header(this);\n",
       "    this._init_canvas(this);\n",
       "    this._init_toolbar(this);\n",
       "\n",
       "    var fig = this;\n",
       "\n",
       "    this.waiting = false;\n",
       "\n",
       "    this.ws.onopen =  function () {\n",
       "            fig.send_message(\"supports_binary\", {value: fig.supports_binary});\n",
       "            fig.send_message(\"send_image_mode\", {});\n",
       "            fig.send_message(\"refresh\", {});\n",
       "        }\n",
       "\n",
       "    this.imageObj.onload = function() {\n",
       "            if (fig.image_mode == 'full') {\n",
       "                // Full images could contain transparency (where diff images\n",
       "                // almost always do), so we need to clear the canvas so that\n",
       "                // there is no ghosting.\n",
       "                fig.context.clearRect(0, 0, fig.canvas.width, fig.canvas.height);\n",
       "            }\n",
       "            fig.context.drawImage(fig.imageObj, 0, 0);\n",
       "        };\n",
       "\n",
       "    this.imageObj.onunload = function() {\n",
       "        this.ws.close();\n",
       "    }\n",
       "\n",
       "    this.ws.onmessage = this._make_on_message_function(this);\n",
       "\n",
       "    this.ondownload = ondownload;\n",
       "}\n",
       "\n",
       "mpl.figure.prototype._init_header = function() {\n",
       "    var titlebar = $(\n",
       "        '<div class=\"ui-dialog-titlebar ui-widget-header ui-corner-all ' +\n",
       "        'ui-helper-clearfix\"/>');\n",
       "    var titletext = $(\n",
       "        '<div class=\"ui-dialog-title\" style=\"width: 100%; ' +\n",
       "        'text-align: center; padding: 3px;\"/>');\n",
       "    titlebar.append(titletext)\n",
       "    this.root.append(titlebar);\n",
       "    this.header = titletext[0];\n",
       "}\n",
       "\n",
       "\n",
       "\n",
       "mpl.figure.prototype._canvas_extra_style = function(canvas_div) {\n",
       "\n",
       "}\n",
       "\n",
       "\n",
       "mpl.figure.prototype._root_extra_style = function(canvas_div) {\n",
       "\n",
       "}\n",
       "\n",
       "mpl.figure.prototype._init_canvas = function() {\n",
       "    var fig = this;\n",
       "\n",
       "    var canvas_div = $('<div/>');\n",
       "\n",
       "    canvas_div.attr('style', 'position: relative; clear: both; outline: 0');\n",
       "\n",
       "    function canvas_keyboard_event(event) {\n",
       "        return fig.key_event(event, event['data']);\n",
       "    }\n",
       "\n",
       "    canvas_div.keydown('key_press', canvas_keyboard_event);\n",
       "    canvas_div.keyup('key_release', canvas_keyboard_event);\n",
       "    this.canvas_div = canvas_div\n",
       "    this._canvas_extra_style(canvas_div)\n",
       "    this.root.append(canvas_div);\n",
       "\n",
       "    var canvas = $('<canvas/>');\n",
       "    canvas.addClass('mpl-canvas');\n",
       "    canvas.attr('style', \"left: 0; top: 0; z-index: 0; outline: 0\")\n",
       "\n",
       "    this.canvas = canvas[0];\n",
       "    this.context = canvas[0].getContext(\"2d\");\n",
       "\n",
       "    var rubberband = $('<canvas/>');\n",
       "    rubberband.attr('style', \"position: absolute; left: 0; top: 0; z-index: 1;\")\n",
       "\n",
       "    var pass_mouse_events = true;\n",
       "\n",
       "    canvas_div.resizable({\n",
       "        start: function(event, ui) {\n",
       "            pass_mouse_events = false;\n",
       "        },\n",
       "        resize: function(event, ui) {\n",
       "            fig.request_resize(ui.size.width, ui.size.height);\n",
       "        },\n",
       "        stop: function(event, ui) {\n",
       "            pass_mouse_events = true;\n",
       "            fig.request_resize(ui.size.width, ui.size.height);\n",
       "        },\n",
       "    });\n",
       "\n",
       "    function mouse_event_fn(event) {\n",
       "        if (pass_mouse_events)\n",
       "            return fig.mouse_event(event, event['data']);\n",
       "    }\n",
       "\n",
       "    rubberband.mousedown('button_press', mouse_event_fn);\n",
       "    rubberband.mouseup('button_release', mouse_event_fn);\n",
       "    // Throttle sequential mouse events to 1 every 20ms.\n",
       "    rubberband.mousemove('motion_notify', mouse_event_fn);\n",
       "\n",
       "    rubberband.mouseenter('figure_enter', mouse_event_fn);\n",
       "    rubberband.mouseleave('figure_leave', mouse_event_fn);\n",
       "\n",
       "    canvas_div.on(\"wheel\", function (event) {\n",
       "        event = event.originalEvent;\n",
       "        event['data'] = 'scroll'\n",
       "        if (event.deltaY < 0) {\n",
       "            event.step = 1;\n",
       "        } else {\n",
       "            event.step = -1;\n",
       "        }\n",
       "        mouse_event_fn(event);\n",
       "    });\n",
       "\n",
       "    canvas_div.append(canvas);\n",
       "    canvas_div.append(rubberband);\n",
       "\n",
       "    this.rubberband = rubberband;\n",
       "    this.rubberband_canvas = rubberband[0];\n",
       "    this.rubberband_context = rubberband[0].getContext(\"2d\");\n",
       "    this.rubberband_context.strokeStyle = \"#000000\";\n",
       "\n",
       "    this._resize_canvas = function(width, height) {\n",
       "        // Keep the size of the canvas, canvas container, and rubber band\n",
       "        // canvas in synch.\n",
       "        canvas_div.css('width', width)\n",
       "        canvas_div.css('height', height)\n",
       "\n",
       "        canvas.attr('width', width);\n",
       "        canvas.attr('height', height);\n",
       "\n",
       "        rubberband.attr('width', width);\n",
       "        rubberband.attr('height', height);\n",
       "    }\n",
       "\n",
       "    // Set the figure to an initial 600x600px, this will subsequently be updated\n",
       "    // upon first draw.\n",
       "    this._resize_canvas(600, 600);\n",
       "\n",
       "    // Disable right mouse context menu.\n",
       "    $(this.rubberband_canvas).bind(\"contextmenu\",function(e){\n",
       "        return false;\n",
       "    });\n",
       "\n",
       "    function set_focus () {\n",
       "        canvas.focus();\n",
       "        canvas_div.focus();\n",
       "    }\n",
       "\n",
       "    window.setTimeout(set_focus, 100);\n",
       "}\n",
       "\n",
       "mpl.figure.prototype._init_toolbar = function() {\n",
       "    var fig = this;\n",
       "\n",
       "    var nav_element = $('<div/>')\n",
       "    nav_element.attr('style', 'width: 100%');\n",
       "    this.root.append(nav_element);\n",
       "\n",
       "    // Define a callback function for later on.\n",
       "    function toolbar_event(event) {\n",
       "        return fig.toolbar_button_onclick(event['data']);\n",
       "    }\n",
       "    function toolbar_mouse_event(event) {\n",
       "        return fig.toolbar_button_onmouseover(event['data']);\n",
       "    }\n",
       "\n",
       "    for(var toolbar_ind in mpl.toolbar_items) {\n",
       "        var name = mpl.toolbar_items[toolbar_ind][0];\n",
       "        var tooltip = mpl.toolbar_items[toolbar_ind][1];\n",
       "        var image = mpl.toolbar_items[toolbar_ind][2];\n",
       "        var method_name = mpl.toolbar_items[toolbar_ind][3];\n",
       "\n",
       "        if (!name) {\n",
       "            // put a spacer in here.\n",
       "            continue;\n",
       "        }\n",
       "        var button = $('<button/>');\n",
       "        button.addClass('ui-button ui-widget ui-state-default ui-corner-all ' +\n",
       "                        'ui-button-icon-only');\n",
       "        button.attr('role', 'button');\n",
       "        button.attr('aria-disabled', 'false');\n",
       "        button.click(method_name, toolbar_event);\n",
       "        button.mouseover(tooltip, toolbar_mouse_event);\n",
       "\n",
       "        var icon_img = $('<span/>');\n",
       "        icon_img.addClass('ui-button-icon-primary ui-icon');\n",
       "        icon_img.addClass(image);\n",
       "        icon_img.addClass('ui-corner-all');\n",
       "\n",
       "        var tooltip_span = $('<span/>');\n",
       "        tooltip_span.addClass('ui-button-text');\n",
       "        tooltip_span.html(tooltip);\n",
       "\n",
       "        button.append(icon_img);\n",
       "        button.append(tooltip_span);\n",
       "\n",
       "        nav_element.append(button);\n",
       "    }\n",
       "\n",
       "    var fmt_picker_span = $('<span/>');\n",
       "\n",
       "    var fmt_picker = $('<select/>');\n",
       "    fmt_picker.addClass('mpl-toolbar-option ui-widget ui-widget-content');\n",
       "    fmt_picker_span.append(fmt_picker);\n",
       "    nav_element.append(fmt_picker_span);\n",
       "    this.format_dropdown = fmt_picker[0];\n",
       "\n",
       "    for (var ind in mpl.extensions) {\n",
       "        var fmt = mpl.extensions[ind];\n",
       "        var option = $(\n",
       "            '<option/>', {selected: fmt === mpl.default_extension}).html(fmt);\n",
       "        fmt_picker.append(option)\n",
       "    }\n",
       "\n",
       "    // Add hover states to the ui-buttons\n",
       "    $( \".ui-button\" ).hover(\n",
       "        function() { $(this).addClass(\"ui-state-hover\");},\n",
       "        function() { $(this).removeClass(\"ui-state-hover\");}\n",
       "    );\n",
       "\n",
       "    var status_bar = $('<span class=\"mpl-message\"/>');\n",
       "    nav_element.append(status_bar);\n",
       "    this.message = status_bar[0];\n",
       "}\n",
       "\n",
       "mpl.figure.prototype.request_resize = function(x_pixels, y_pixels) {\n",
       "    // Request matplotlib to resize the figure. Matplotlib will then trigger a resize in the client,\n",
       "    // which will in turn request a refresh of the image.\n",
       "    this.send_message('resize', {'width': x_pixels, 'height': y_pixels});\n",
       "}\n",
       "\n",
       "mpl.figure.prototype.send_message = function(type, properties) {\n",
       "    properties['type'] = type;\n",
       "    properties['figure_id'] = this.id;\n",
       "    this.ws.send(JSON.stringify(properties));\n",
       "}\n",
       "\n",
       "mpl.figure.prototype.send_draw_message = function() {\n",
       "    if (!this.waiting) {\n",
       "        this.waiting = true;\n",
       "        this.ws.send(JSON.stringify({type: \"draw\", figure_id: this.id}));\n",
       "    }\n",
       "}\n",
       "\n",
       "\n",
       "mpl.figure.prototype.handle_save = function(fig, msg) {\n",
       "    var format_dropdown = fig.format_dropdown;\n",
       "    var format = format_dropdown.options[format_dropdown.selectedIndex].value;\n",
       "    fig.ondownload(fig, format);\n",
       "}\n",
       "\n",
       "\n",
       "mpl.figure.prototype.handle_resize = function(fig, msg) {\n",
       "    var size = msg['size'];\n",
       "    if (size[0] != fig.canvas.width || size[1] != fig.canvas.height) {\n",
       "        fig._resize_canvas(size[0], size[1]);\n",
       "        fig.send_message(\"refresh\", {});\n",
       "    };\n",
       "}\n",
       "\n",
       "mpl.figure.prototype.handle_rubberband = function(fig, msg) {\n",
       "    var x0 = msg['x0'];\n",
       "    var y0 = fig.canvas.height - msg['y0'];\n",
       "    var x1 = msg['x1'];\n",
       "    var y1 = fig.canvas.height - msg['y1'];\n",
       "    x0 = Math.floor(x0) + 0.5;\n",
       "    y0 = Math.floor(y0) + 0.5;\n",
       "    x1 = Math.floor(x1) + 0.5;\n",
       "    y1 = Math.floor(y1) + 0.5;\n",
       "    var min_x = Math.min(x0, x1);\n",
       "    var min_y = Math.min(y0, y1);\n",
       "    var width = Math.abs(x1 - x0);\n",
       "    var height = Math.abs(y1 - y0);\n",
       "\n",
       "    fig.rubberband_context.clearRect(\n",
       "        0, 0, fig.canvas.width, fig.canvas.height);\n",
       "\n",
       "    fig.rubberband_context.strokeRect(min_x, min_y, width, height);\n",
       "}\n",
       "\n",
       "mpl.figure.prototype.handle_figure_label = function(fig, msg) {\n",
       "    // Updates the figure title.\n",
       "    fig.header.textContent = msg['label'];\n",
       "}\n",
       "\n",
       "mpl.figure.prototype.handle_cursor = function(fig, msg) {\n",
       "    var cursor = msg['cursor'];\n",
       "    switch(cursor)\n",
       "    {\n",
       "    case 0:\n",
       "        cursor = 'pointer';\n",
       "        break;\n",
       "    case 1:\n",
       "        cursor = 'default';\n",
       "        break;\n",
       "    case 2:\n",
       "        cursor = 'crosshair';\n",
       "        break;\n",
       "    case 3:\n",
       "        cursor = 'move';\n",
       "        break;\n",
       "    }\n",
       "    fig.rubberband_canvas.style.cursor = cursor;\n",
       "}\n",
       "\n",
       "mpl.figure.prototype.handle_message = function(fig, msg) {\n",
       "    fig.message.textContent = msg['message'];\n",
       "}\n",
       "\n",
       "mpl.figure.prototype.handle_draw = function(fig, msg) {\n",
       "    // Request the server to send over a new figure.\n",
       "    fig.send_draw_message();\n",
       "}\n",
       "\n",
       "mpl.figure.prototype.handle_image_mode = function(fig, msg) {\n",
       "    fig.image_mode = msg['mode'];\n",
       "}\n",
       "\n",
       "mpl.figure.prototype.updated_canvas_event = function() {\n",
       "    // Called whenever the canvas gets updated.\n",
       "    this.send_message(\"ack\", {});\n",
       "}\n",
       "\n",
       "// A function to construct a web socket function for onmessage handling.\n",
       "// Called in the figure constructor.\n",
       "mpl.figure.prototype._make_on_message_function = function(fig) {\n",
       "    return function socket_on_message(evt) {\n",
       "        if (evt.data instanceof Blob) {\n",
       "            /* FIXME: We get \"Resource interpreted as Image but\n",
       "             * transferred with MIME type text/plain:\" errors on\n",
       "             * Chrome.  But how to set the MIME type?  It doesn't seem\n",
       "             * to be part of the websocket stream */\n",
       "            evt.data.type = \"image/png\";\n",
       "\n",
       "            /* Free the memory for the previous frames */\n",
       "            if (fig.imageObj.src) {\n",
       "                (window.URL || window.webkitURL).revokeObjectURL(\n",
       "                    fig.imageObj.src);\n",
       "            }\n",
       "\n",
       "            fig.imageObj.src = (window.URL || window.webkitURL).createObjectURL(\n",
       "                evt.data);\n",
       "            fig.updated_canvas_event();\n",
       "            fig.waiting = false;\n",
       "            return;\n",
       "        }\n",
       "        else if (typeof evt.data === 'string' && evt.data.slice(0, 21) == \"data:image/png;base64\") {\n",
       "            fig.imageObj.src = evt.data;\n",
       "            fig.updated_canvas_event();\n",
       "            fig.waiting = false;\n",
       "            return;\n",
       "        }\n",
       "\n",
       "        var msg = JSON.parse(evt.data);\n",
       "        var msg_type = msg['type'];\n",
       "\n",
       "        // Call the  \"handle_{type}\" callback, which takes\n",
       "        // the figure and JSON message as its only arguments.\n",
       "        try {\n",
       "            var callback = fig[\"handle_\" + msg_type];\n",
       "        } catch (e) {\n",
       "            console.log(\"No handler for the '\" + msg_type + \"' message type: \", msg);\n",
       "            return;\n",
       "        }\n",
       "\n",
       "        if (callback) {\n",
       "            try {\n",
       "                // console.log(\"Handling '\" + msg_type + \"' message: \", msg);\n",
       "                callback(fig, msg);\n",
       "            } catch (e) {\n",
       "                console.log(\"Exception inside the 'handler_\" + msg_type + \"' callback:\", e, e.stack, msg);\n",
       "            }\n",
       "        }\n",
       "    };\n",
       "}\n",
       "\n",
       "// from http://stackoverflow.com/questions/1114465/getting-mouse-location-in-canvas\n",
       "mpl.findpos = function(e) {\n",
       "    //this section is from http://www.quirksmode.org/js/events_properties.html\n",
       "    var targ;\n",
       "    if (!e)\n",
       "        e = window.event;\n",
       "    if (e.target)\n",
       "        targ = e.target;\n",
       "    else if (e.srcElement)\n",
       "        targ = e.srcElement;\n",
       "    if (targ.nodeType == 3) // defeat Safari bug\n",
       "        targ = targ.parentNode;\n",
       "\n",
       "    // jQuery normalizes the pageX and pageY\n",
       "    // pageX,Y are the mouse positions relative to the document\n",
       "    // offset() returns the position of the element relative to the document\n",
       "    var x = e.pageX - $(targ).offset().left;\n",
       "    var y = e.pageY - $(targ).offset().top;\n",
       "\n",
       "    return {\"x\": x, \"y\": y};\n",
       "};\n",
       "\n",
       "/*\n",
       " * return a copy of an object with only non-object keys\n",
       " * we need this to avoid circular references\n",
       " * http://stackoverflow.com/a/24161582/3208463\n",
       " */\n",
       "function simpleKeys (original) {\n",
       "  return Object.keys(original).reduce(function (obj, key) {\n",
       "    if (typeof original[key] !== 'object')\n",
       "        obj[key] = original[key]\n",
       "    return obj;\n",
       "  }, {});\n",
       "}\n",
       "\n",
       "mpl.figure.prototype.mouse_event = function(event, name) {\n",
       "    var canvas_pos = mpl.findpos(event)\n",
       "\n",
       "    if (name === 'button_press')\n",
       "    {\n",
       "        this.canvas.focus();\n",
       "        this.canvas_div.focus();\n",
       "    }\n",
       "\n",
       "    var x = canvas_pos.x;\n",
       "    var y = canvas_pos.y;\n",
       "\n",
       "    this.send_message(name, {x: x, y: y, button: event.button,\n",
       "                             step: event.step,\n",
       "                             guiEvent: simpleKeys(event)});\n",
       "\n",
       "    /* This prevents the web browser from automatically changing to\n",
       "     * the text insertion cursor when the button is pressed.  We want\n",
       "     * to control all of the cursor setting manually through the\n",
       "     * 'cursor' event from matplotlib */\n",
       "    event.preventDefault();\n",
       "    return false;\n",
       "}\n",
       "\n",
       "mpl.figure.prototype._key_event_extra = function(event, name) {\n",
       "    // Handle any extra behaviour associated with a key event\n",
       "}\n",
       "\n",
       "mpl.figure.prototype.key_event = function(event, name) {\n",
       "\n",
       "    // Prevent repeat events\n",
       "    if (name == 'key_press')\n",
       "    {\n",
       "        if (event.which === this._key)\n",
       "            return;\n",
       "        else\n",
       "            this._key = event.which;\n",
       "    }\n",
       "    if (name == 'key_release')\n",
       "        this._key = null;\n",
       "\n",
       "    var value = '';\n",
       "    if (event.ctrlKey && event.which != 17)\n",
       "        value += \"ctrl+\";\n",
       "    if (event.altKey && event.which != 18)\n",
       "        value += \"alt+\";\n",
       "    if (event.shiftKey && event.which != 16)\n",
       "        value += \"shift+\";\n",
       "\n",
       "    value += 'k';\n",
       "    value += event.which.toString();\n",
       "\n",
       "    this._key_event_extra(event, name);\n",
       "\n",
       "    this.send_message(name, {key: value,\n",
       "                             guiEvent: simpleKeys(event)});\n",
       "    return false;\n",
       "}\n",
       "\n",
       "mpl.figure.prototype.toolbar_button_onclick = function(name) {\n",
       "    if (name == 'download') {\n",
       "        this.handle_save(this, null);\n",
       "    } else {\n",
       "        this.send_message(\"toolbar_button\", {name: name});\n",
       "    }\n",
       "};\n",
       "\n",
       "mpl.figure.prototype.toolbar_button_onmouseover = function(tooltip) {\n",
       "    this.message.textContent = tooltip;\n",
       "};\n",
       "mpl.toolbar_items = [[\"Home\", \"Reset original view\", \"fa fa-home icon-home\", \"home\"], [\"Back\", \"Back to  previous view\", \"fa fa-arrow-left icon-arrow-left\", \"back\"], [\"Forward\", \"Forward to next view\", \"fa fa-arrow-right icon-arrow-right\", \"forward\"], [\"\", \"\", \"\", \"\"], [\"Pan\", \"Pan axes with left mouse, zoom with right\", \"fa fa-arrows icon-move\", \"pan\"], [\"Zoom\", \"Zoom to rectangle\", \"fa fa-square-o icon-check-empty\", \"zoom\"], [\"\", \"\", \"\", \"\"], [\"Download\", \"Download plot\", \"fa fa-floppy-o icon-save\", \"download\"]];\n",
       "\n",
       "mpl.extensions = [\"eps\", \"jpeg\", \"pdf\", \"png\", \"ps\", \"raw\", \"svg\", \"tif\"];\n",
       "\n",
       "mpl.default_extension = \"png\";var comm_websocket_adapter = function(comm) {\n",
       "    // Create a \"websocket\"-like object which calls the given IPython comm\n",
       "    // object with the appropriate methods. Currently this is a non binary\n",
       "    // socket, so there is still some room for performance tuning.\n",
       "    var ws = {};\n",
       "\n",
       "    ws.close = function() {\n",
       "        comm.close()\n",
       "    };\n",
       "    ws.send = function(m) {\n",
       "        //console.log('sending', m);\n",
       "        comm.send(m);\n",
       "    };\n",
       "    // Register the callback with on_msg.\n",
       "    comm.on_msg(function(msg) {\n",
       "        //console.log('receiving', msg['content']['data'], msg);\n",
       "        // Pass the mpl event to the overriden (by mpl) onmessage function.\n",
       "        ws.onmessage(msg['content']['data'])\n",
       "    });\n",
       "    return ws;\n",
       "}\n",
       "\n",
       "mpl.mpl_figure_comm = function(comm, msg) {\n",
       "    // This is the function which gets called when the mpl process\n",
       "    // starts-up an IPython Comm through the \"matplotlib\" channel.\n",
       "\n",
       "    var id = msg.content.data.id;\n",
       "    // Get hold of the div created by the display call when the Comm\n",
       "    // socket was opened in Python.\n",
       "    var element = $(\"#\" + id);\n",
       "    var ws_proxy = comm_websocket_adapter(comm)\n",
       "\n",
       "    function ondownload(figure, format) {\n",
       "        window.open(figure.imageObj.src);\n",
       "    }\n",
       "\n",
       "    var fig = new mpl.figure(id, ws_proxy,\n",
       "                           ondownload,\n",
       "                           element.get(0));\n",
       "\n",
       "    // Call onopen now - mpl needs it, as it is assuming we've passed it a real\n",
       "    // web socket which is closed, not our websocket->open comm proxy.\n",
       "    ws_proxy.onopen();\n",
       "\n",
       "    fig.parent_element = element.get(0);\n",
       "    fig.cell_info = mpl.find_output_cell(\"<div id='\" + id + \"'></div>\");\n",
       "    if (!fig.cell_info) {\n",
       "        console.error(\"Failed to find cell for figure\", id, fig);\n",
       "        return;\n",
       "    }\n",
       "\n",
       "    var output_index = fig.cell_info[2]\n",
       "    var cell = fig.cell_info[0];\n",
       "\n",
       "};\n",
       "\n",
       "mpl.figure.prototype.handle_close = function(fig, msg) {\n",
       "    fig.root.unbind('remove')\n",
       "\n",
       "    // Update the output cell to use the data from the current canvas.\n",
       "    fig.push_to_output();\n",
       "    var dataURL = fig.canvas.toDataURL();\n",
       "    // Re-enable the keyboard manager in IPython - without this line, in FF,\n",
       "    // the notebook keyboard shortcuts fail.\n",
       "    IPython.keyboard_manager.enable()\n",
       "    $(fig.parent_element).html('<img src=\"' + dataURL + '\">');\n",
       "    fig.close_ws(fig, msg);\n",
       "}\n",
       "\n",
       "mpl.figure.prototype.close_ws = function(fig, msg){\n",
       "    fig.send_message('closing', msg);\n",
       "    // fig.ws.close()\n",
       "}\n",
       "\n",
       "mpl.figure.prototype.push_to_output = function(remove_interactive) {\n",
       "    // Turn the data on the canvas into data in the output cell.\n",
       "    var dataURL = this.canvas.toDataURL();\n",
       "    this.cell_info[1]['text/html'] = '<img src=\"' + dataURL + '\">';\n",
       "}\n",
       "\n",
       "mpl.figure.prototype.updated_canvas_event = function() {\n",
       "    // Tell IPython that the notebook contents must change.\n",
       "    IPython.notebook.set_dirty(true);\n",
       "    this.send_message(\"ack\", {});\n",
       "    var fig = this;\n",
       "    // Wait a second, then push the new image to the DOM so\n",
       "    // that it is saved nicely (might be nice to debounce this).\n",
       "    setTimeout(function () { fig.push_to_output() }, 1000);\n",
       "}\n",
       "\n",
       "mpl.figure.prototype._init_toolbar = function() {\n",
       "    var fig = this;\n",
       "\n",
       "    var nav_element = $('<div/>')\n",
       "    nav_element.attr('style', 'width: 100%');\n",
       "    this.root.append(nav_element);\n",
       "\n",
       "    // Define a callback function for later on.\n",
       "    function toolbar_event(event) {\n",
       "        return fig.toolbar_button_onclick(event['data']);\n",
       "    }\n",
       "    function toolbar_mouse_event(event) {\n",
       "        return fig.toolbar_button_onmouseover(event['data']);\n",
       "    }\n",
       "\n",
       "    for(var toolbar_ind in mpl.toolbar_items){\n",
       "        var name = mpl.toolbar_items[toolbar_ind][0];\n",
       "        var tooltip = mpl.toolbar_items[toolbar_ind][1];\n",
       "        var image = mpl.toolbar_items[toolbar_ind][2];\n",
       "        var method_name = mpl.toolbar_items[toolbar_ind][3];\n",
       "\n",
       "        if (!name) { continue; };\n",
       "\n",
       "        var button = $('<button class=\"btn btn-default\" href=\"#\" title=\"' + name + '\"><i class=\"fa ' + image + ' fa-lg\"></i></button>');\n",
       "        button.click(method_name, toolbar_event);\n",
       "        button.mouseover(tooltip, toolbar_mouse_event);\n",
       "        nav_element.append(button);\n",
       "    }\n",
       "\n",
       "    // Add the status bar.\n",
       "    var status_bar = $('<span class=\"mpl-message\" style=\"text-align:right; float: right;\"/>');\n",
       "    nav_element.append(status_bar);\n",
       "    this.message = status_bar[0];\n",
       "\n",
       "    // Add the close button to the window.\n",
       "    var buttongrp = $('<div class=\"btn-group inline pull-right\"></div>');\n",
       "    var button = $('<button class=\"btn btn-mini btn-primary\" href=\"#\" title=\"Stop Interaction\"><i class=\"fa fa-power-off icon-remove icon-large\"></i></button>');\n",
       "    button.click(function (evt) { fig.handle_close(fig, {}); } );\n",
       "    button.mouseover('Stop Interaction', toolbar_mouse_event);\n",
       "    buttongrp.append(button);\n",
       "    var titlebar = this.root.find($('.ui-dialog-titlebar'));\n",
       "    titlebar.prepend(buttongrp);\n",
       "}\n",
       "\n",
       "mpl.figure.prototype._root_extra_style = function(el){\n",
       "    var fig = this\n",
       "    el.on(\"remove\", function(){\n",
       "\tfig.close_ws(fig, {});\n",
       "    });\n",
       "}\n",
       "\n",
       "mpl.figure.prototype._canvas_extra_style = function(el){\n",
       "    // this is important to make the div 'focusable\n",
       "    el.attr('tabindex', 0)\n",
       "    // reach out to IPython and tell the keyboard manager to turn it's self\n",
       "    // off when our div gets focus\n",
       "\n",
       "    // location in version 3\n",
       "    if (IPython.notebook.keyboard_manager) {\n",
       "        IPython.notebook.keyboard_manager.register_events(el);\n",
       "    }\n",
       "    else {\n",
       "        // location in version 2\n",
       "        IPython.keyboard_manager.register_events(el);\n",
       "    }\n",
       "\n",
       "}\n",
       "\n",
       "mpl.figure.prototype._key_event_extra = function(event, name) {\n",
       "    var manager = IPython.notebook.keyboard_manager;\n",
       "    if (!manager)\n",
       "        manager = IPython.keyboard_manager;\n",
       "\n",
       "    // Check for shift+enter\n",
       "    if (event.shiftKey && event.which == 13) {\n",
       "        this.canvas_div.blur();\n",
       "        event.shiftKey = false;\n",
       "        // Send a \"J\" for go to next cell\n",
       "        event.which = 74;\n",
       "        event.keyCode = 74;\n",
       "        manager.command_mode();\n",
       "        manager.handle_keydown(event);\n",
       "    }\n",
       "}\n",
       "\n",
       "mpl.figure.prototype.handle_save = function(fig, msg) {\n",
       "    fig.ondownload(fig, null);\n",
       "}\n",
       "\n",
       "\n",
       "mpl.find_output_cell = function(html_output) {\n",
       "    // Return the cell and output element which can be found *uniquely* in the notebook.\n",
       "    // Note - this is a bit hacky, but it is done because the \"notebook_saving.Notebook\"\n",
       "    // IPython event is triggered only after the cells have been serialised, which for\n",
       "    // our purposes (turning an active figure into a static one), is too late.\n",
       "    var cells = IPython.notebook.get_cells();\n",
       "    var ncells = cells.length;\n",
       "    for (var i=0; i<ncells; i++) {\n",
       "        var cell = cells[i];\n",
       "        if (cell.cell_type === 'code'){\n",
       "            for (var j=0; j<cell.output_area.outputs.length; j++) {\n",
       "                var data = cell.output_area.outputs[j];\n",
       "                if (data.data) {\n",
       "                    // IPython >= 3 moved mimebundle to data attribute of output\n",
       "                    data = data.data;\n",
       "                }\n",
       "                if (data['text/html'] == html_output) {\n",
       "                    return [cell, data, j];\n",
       "                }\n",
       "            }\n",
       "        }\n",
       "    }\n",
       "}\n",
       "\n",
       "// Register the function which deals with the matplotlib target/channel.\n",
       "// The kernel may be null if the page has been refreshed.\n",
       "if (IPython.notebook.kernel != null) {\n",
       "    IPython.notebook.kernel.comm_manager.register_target('matplotlib', mpl.mpl_figure_comm);\n",
       "}\n"
      ],
      "text/plain": [
       "<IPython.core.display.Javascript object>"
      ]
     },
     "metadata": {},
     "output_type": "display_data"
    },
    {
     "data": {
      "text/html": [
       "<img src=\"data:image/png;base64,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\">"
      ],
      "text/plain": [
       "<IPython.core.display.HTML object>"
      ]
     },
     "metadata": {},
     "output_type": "display_data"
    }
   ],
   "source": [
    "# Recreate the court\n",
    "fig, ax = plt.subplots(figsize=(12, 6))\n",
    "ax.set_xlim(-20, 960)\n",
    "ax.vlines([0, 940], -250, 250)\n",
    "ax.hlines([-250, 250], 0, 940)\n",
    "ax.hlines([-80, -80, 80, 80], [0, 750] * 2, [190, 940] * 2)\n",
    "ax.hlines([-60, -60, 60, 60], [0, 750] * 2, [190, 940] * 2)\n",
    "ax.vlines([190, 750], -80, 80)\n",
    "ax.vlines(470, -250, 250)\n",
    "ax.vlines([40, 900], -30, 30)\n",
    "ax.add_patch(Arc((190, 0), 120, 120, theta1=-90, theta2=90, linewidth=2))\n",
    "ax.add_patch(Arc((190, 0), 120, 120, theta1=90, theta2=-90, linewidth=2, linestyle='dashed'))\n",
    "ax.add_patch(Arc((750, 0), 120, 120, theta1=90, theta2=-90, linewidth=2))\n",
    "ax.add_patch(Arc((750, 0), 120, 120, theta1=-90, theta2=90, linewidth=2, linestyle='dashed'))\n",
    "ax.hlines([-220, -220, 220, 220], [0, 800] * 2, [140, 940] * 2)\n",
    "ax.add_patch(Arc((47.5, 0), 475, 475, theta1=-67.5, theta2=67.5, linewidth=2))\n",
    "ax.add_patch(Arc((892.5, 0), 475, 475, theta1=112.5, theta2=-112.5, linewidth=2))\n",
    "ax.add_patch(Arc((47.5, 0), 15, 15, theta1=0, theta2=360, linewidth=2))\n",
    "ax.add_patch(Arc((892.5, 0), 15, 15, theta1=0, theta2=360, linewidth=2))\n",
    "ax.add_patch(Circle((470, 0), 60, facecolor='none', lw=2))\n",
    "\n",
    "# Clean the court by removing the tick marks\n",
    "ax.set_xticks([])\n",
    "ax.set_yticks([])\n",
    "\n",
    "# Create a dictionary to keep track of the score. 1 is the home team\n",
    "scores = {0: 0, 1: 0}\n",
    "\n",
    "# Assign to variables the plot items that will change after each iteration\n",
    "home_text = ax.text(20, 300, home_team + \" \" + str(scores[0]), fontsize=20, fontweight='bold')\n",
    "vis_text = ax.text(600, 300, visitor_team + \" \" + str(scores[1]), fontsize=20, fontweight='bold')\n",
    "time_left = ax.text(0, -300, \"Q:1 12:00\", fontsize= 16)\n",
    "description = ax.text(200, -300, \"\", fontsize= 16)\n",
    "\n",
    "# Initialize plot with all 0 size\n",
    "shot_scatter = ax.scatter('LOC_X_NEW', 'LOC_Y_NEW', marker='o', sizes=sizes,\n",
    "                          facecolors='FACECOLOR', edgecolors='EDGECOLOR', lw=2, data=df_all);\n",
    "\n",
    "def init():\n",
    "    scores = {0: 0, 1: 0}\n",
    "    \n",
    "sizes = np.zeros(len(df_all))\n",
    "\n",
    "# The update function is called as frequently as the interval parameter below (in milliseconds).\n",
    "def update(frame_number):\n",
    "    # Make the current point visible\n",
    "    sizes[:frame_number + 1] = 120\n",
    "    shot_scatter.set_sizes(sizes)\n",
    "    \n",
    "    # Change the score\n",
    "    current_row = df_all.iloc[frame_number]\n",
    "    scores[current_row['HOME_TEAM']] += current_row['POINTS']\n",
    "    home_text.set_text(home_team + \" \" + str(scores[1]))\n",
    "    vis_text.set_text(visitor_team + \" \" + str(scores[0]))\n",
    "    \n",
    "    time_left.set_text(\"Q:{} {:02d}:{:02d}\".format(current_row['PERIOD'], \n",
    "                                                                   current_row['MINUTES_REMAINING'],\n",
    "                                                                   current_row['SECONDS_REMAINING']))\n",
    "    description.set_text(current_row['DESCRIPTION'])\n",
    "    \n",
    "    if frame_number == len(sizes) - 1:\n",
    "        sizes[:] = 0\n",
    "        scores[0] = 0\n",
    "        scores[1] = 0\n",
    "\n",
    "Writer = writers['ffmpeg']\n",
    "writer = Writer(fps=1, metadata=dict(artist='Me'), bitrate=1800)\n",
    "\n",
    "animation = FuncAnimation(fig, update, len(sizes), interval=300, init_func=init)\n",
    "animation.save('animation.mp4', writer=writer)"
   ]
  },
  {
   "cell_type": "code",
   "execution_count": null,
   "metadata": {
    "collapsed": true
   },
   "outputs": [],
   "source": []
  }
 ],
 "metadata": {
  "kernelspec": {
   "display_name": "Python 3",
   "language": "python",
   "name": "python3"
  },
  "language_info": {
   "codemirror_mode": {
    "name": "ipython",
    "version": 3
   },
   "file_extension": ".py",
   "mimetype": "text/x-python",
   "name": "python",
   "nbconvert_exporter": "python",
   "pygments_lexer": "ipython3",
   "version": "3.5.1"
  }
 },
 "nbformat": 4,
 "nbformat_minor": 0
}
